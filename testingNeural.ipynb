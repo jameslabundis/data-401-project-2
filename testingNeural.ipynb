{
 "cells": [
  {
   "cell_type": "code",
   "execution_count": 9,
   "metadata": {},
   "outputs": [],
   "source": [
    "import numpy as np\n",
    "import pandas as pd\n",
    "import matplotlib.pyplot as plt\n",
    "import random\n",
    "from sklearn.model_selection import KFold\n",
    "import pandas as pd\n",
    "%matplotlib inline"
   ]
  },
  {
   "cell_type": "code",
   "execution_count": 2,
   "metadata": {},
   "outputs": [],
   "source": [
    "class Loss(object):\n",
    "    \n",
    "    def __call__(self, predicted, actual):\n",
    "        \"\"\"Calculates the loss as a function of the prediction and the actual.\n",
    "        \n",
    "        Args:\n",
    "          predicted (np.ndarray, float): the predicted output labels\n",
    "          actual (np.ndarray, float): the actual output labels\n",
    "          \n",
    "        Returns: (float) \n",
    "          The value of the loss for this batch of observations.\n",
    "        \"\"\"\n",
    "        raise NotImplementedError\n",
    "        \n",
    "    def derivative(self, predicted, actual):\n",
    "        \"\"\"The derivative of the loss with respect to the prediction.\n",
    "        \n",
    "        Args:\n",
    "          predicted (np.ndarray, float): the predicted output labels\n",
    "          actual (np.ndarray, float): the actual output labels\n",
    "          \n",
    "        Returns: (np.ndarray, float) \n",
    "          The derivatives of the loss.\n",
    "        \"\"\"\n",
    "        raise NotImplementedError\n",
    "        \n",
    "        \n",
    "class SquaredErrorLoss(Loss):\n",
    "    \n",
    "    def __call__(self, predicted, actual):\n",
    "        return 0.5*np.sum(\n",
    "            np.multiply((predicted - actual), (predicted - actual))\n",
    "        )\n",
    "    \n",
    "    def delta(self, z_prime, predicted, actual):\n",
    "        return (\n",
    "            np.multiply((predicted - actual), z_prime.T)\n",
    "        )\n",
    "\n",
    "class crossEntropy(Loss):\n",
    "    \n",
    "    def __call__(self, predicted, actual):\n",
    "        return np.sum(\n",
    "            np.nan_to_num(np.multiply(-actual,np.log(predicted))-np.multiply((1-actual),np.log(1-predicted)))\n",
    "        )\n",
    "    \n",
    "    def delta(self, z_prime, predicted, actual):\n",
    "        return (\n",
    "            (predicted-actual)\n",
    "        )"
   ]
  },
  {
   "cell_type": "code",
   "execution_count": 3,
   "metadata": {},
   "outputs": [],
   "source": [
    "class ActivationFunction(object):\n",
    "        \n",
    "    def __call__(self, a):\n",
    "        \"\"\"Applies activation function to the values in a layer.\n",
    "        \n",
    "        Args:\n",
    "          a (np.ndarray, float): the values from the previous layer (after \n",
    "            multiplying by the weights.\n",
    "          \n",
    "        Returns: (np.ndarray, float) \n",
    "          The values h = g(a).\n",
    "        \"\"\"\n",
    "        return a\n",
    "    \n",
    "    def derivative(self, h):\n",
    "        \"\"\"The derivatives as a function of the outputs at the nodes.\n",
    "        \n",
    "        Args:\n",
    "          h (np.ndarray, float): the outputs h = g(a) at the nodes.\n",
    "          \n",
    "        Returns: (np.ndarray, float) \n",
    "          The derivatives dh/da.\n",
    "        \"\"\"\n",
    "        return np.ones(h.shape)\n",
    "    \n",
    "class ReLU(ActivationFunction):\n",
    "    \n",
    "    def __call__(self, a):\n",
    "        return np.where(a > 0, a, 0)\n",
    "    \n",
    "    def derivative(self, a):\n",
    "        return np.where(a > 0, 1, 0)\n",
    "\n",
    "class Sigmoid(ActivationFunction):\n",
    "    \n",
    "    def __call__(self, a):\n",
    "        return 1/(1 + np.exp(-a))\n",
    "    \n",
    "    def derivative(self, a):\n",
    "        e = self.__call__(a)\n",
    "        return  np.multiply(e, (1 - e))"
   ]
  },
  {
   "cell_type": "code",
   "execution_count": 4,
   "metadata": {},
   "outputs": [],
   "source": [
    "class Layer(object):\n",
    "    \"\"\"A data structure for a layer in a neural network.\n",
    "    \n",
    "    Attributes:\n",
    "      num_nodes (int): number of nodes in the layer\n",
    "      activation_function (ActivationFunction)\n",
    "      values_pre_activation (np.ndarray, float): most recent values\n",
    "        in layer, before applying activation function\n",
    "      values_post_activation (np.ndarray, float): most recent values\n",
    "        in layer, after applying activation function\n",
    "    \"\"\"\n",
    "    \n",
    "    def __init__(self, num_nodes, activation_function=ActivationFunction()):\n",
    "        self.num_nodes = num_nodes\n",
    "        self.activation_function = activation_function\n",
    "        \n",
    "    def get_layer_values(self, values_pre_activation):\n",
    "        \"\"\"Applies activation function to values from previous layer.\n",
    "        \n",
    "        Stores the values (both before and after applying activation \n",
    "        function)\n",
    "        \n",
    "        Args:\n",
    "          values_pre_activation (np.ndarray, float): \n",
    "            A (batch size) x self.num_nodes array of the values\n",
    "            in layer before applying the activation function\n",
    "        \n",
    "        Returns: (np.ndarray, float)\n",
    "            A (batch size) x self.num_nodes array of the values\n",
    "            in layer after applying the activation function\n",
    "        \"\"\"\n",
    "        self.values_pre_activation = values_pre_activation\n",
    "        self.values_post_activation = self.activation_function(\n",
    "            values_pre_activation\n",
    "        )\n",
    "        return self.values_post_activation\n",
    "    \n",
    "    def get_layer_derivatives(self, values_pre_activation):\n",
    "        return self.activation_function.derivative(\n",
    "            values_pre_activation\n",
    "        )"
   ]
  },
  {
   "cell_type": "code",
   "execution_count": 271,
   "metadata": {},
   "outputs": [],
   "source": [
    "class FullyConnectedNeuralNetwork(object):\n",
    "    \"\"\"A data structure for a fully-connected neural network.\n",
    "    \n",
    "    Attributes:\n",
    "      layers (Layer): A list of Layer objects.\n",
    "      loss (Loss): The loss function to use in training.\n",
    "      learning_rate (float): The learning rate to use in backpropagation.\n",
    "      weights (list, np.ndarray): A list of weight matrices,\n",
    "        length should be len(self.layers) - 1\n",
    "      biases (list, float): A list of bias terms,\n",
    "        length should be equal to len(self.layers)\n",
    "    \"\"\"\n",
    "    \n",
    "    def __init__(self, layers, loss, learning_rate):\n",
    "        self.layers = layers\n",
    "        self.loss = loss\n",
    "        self.learning_rate = learning_rate\n",
    "        \n",
    "        # initialize weight matrices and biases to zeros\n",
    "        self.weights = []\n",
    "        self.biases = []\n",
    "        mu, sigma = 0, 1\n",
    "        for i in range(1, len(self.layers)):\n",
    "            w = np.matrix(np.random.normal(mu, sigma, (self.layers[i - 1].num_nodes, self.layers[i].num_nodes))/np.sqrt(self.layers[i - 1].num_nodes))\n",
    "            self.weights.append(w)\n",
    "            self.biases.append(np.zeros(self.layers[i].num_nodes))\n",
    "        \n",
    "    def feedforward(self, inputs):\n",
    "        \"\"\"Predicts the output(s) for a given set of input(s).\n",
    "        \n",
    "        Args:\n",
    "          inputs (np.ndarray, float): A (batch size) x self.layers[0].num_nodes array\n",
    "          \n",
    "        Returns: (np.ndarray, float) \n",
    "          An array of the predicted output labels, length is the batch size\n",
    "        \"\"\"\n",
    "        self.storedValuesZ = [inputs]\n",
    "        self.storedValuesA = [inputs]\n",
    "        a = inputs\n",
    "        \n",
    "        ## Iterate layers\n",
    "        for i, layer in enumerate(self.layers):\n",
    "            ## g(hw + b),  h = previous layer values\n",
    "            if i != len(self.layers) - 1:\n",
    "                z = np.matrix(np.add(a * self.weights[i], np.matrix(self.biases[i])))\n",
    "                self.storedValuesZ.append(z)\n",
    "                a = np.matrix(self.layers[i + 1].get_layer_values(z))\n",
    "                self.storedValuesA.append(a)\n",
    "        return a\n",
    "    \n",
    "    def predict(self, inputs):\n",
    "        h = inputs\n",
    "        ## Iterate layers\n",
    "        for i, layer in enumerate(self.layers):\n",
    "            ## g(hw + b),  h = previous layer values\n",
    "            if i != len(self.layers) - 1:\n",
    "                a = np.matrix(np.add(h * self.weights[i], np.matrix(self.biases[i])))\n",
    "                h = self.layers[i+1].get_layer_values(a)\n",
    "        return h\n",
    "    \n",
    "    def backProp(self, predicted, actual):\n",
    "        gradient_b = [np.zeros(b.shape) for b in self.biases]\n",
    "        gradient_w = [np.zeros(w.shape) for w in self.weights]\n",
    "        # Update First weights\n",
    "        z_prime = 0\n",
    "        if (type(self.loss) == type(SquaredErrorLoss())):\n",
    "            z_prime = self.layers[-1].get_layer_derivatives(self.storedValuesZ[-1]).T\n",
    "        delta = self.loss.delta(z_prime, predicted, actual).T\n",
    "        dLdw = np.multiply(delta,self.storedValuesA[-2]).T\n",
    "        \n",
    "        gradient_b[-1] = delta.T\n",
    "        gradient_w[-1] = dLdw\n",
    "        #self.updatedWeights[-1]= self.weights[-1] - self.learning_rate * dLdw\n",
    "        #self.updatedBiases[-1] = self.biases[-1] - np.multiply(self.learning_rate, delta).T\n",
    "        \n",
    "        # Update rest of the weights\n",
    "        for l in range(2, len(self.layers)):\n",
    "            z = self.storedValuesZ[-l]\n",
    "            dadz = self.layers[-l].get_layer_derivatives(z)\n",
    "            delta = np.multiply(self.weights[-l + 1] * delta, dadz.T)\n",
    "            dLdw = np.multiply(delta, self.storedValuesA[-l - 1]).T\n",
    "            gradient_b[-l] = delta.T\n",
    "            gradient_w[-l] = dLdw\n",
    "            #self.updatedBiases[-l] = self.biases[-l] - np.multiply(self.learning_rate, delta).T\n",
    "            #self.updatedWeights[-l] = self.weights[-l] - np.multiply(self.learning_rate, np.dot(delta, self.storedValuesA[-l - 1])).T\n",
    "        return (gradient_b, gradient_w)\n",
    "        \n",
    "    def train(self, inputs, labels):\n",
    "        \"\"\"Trains neural network based on a batch of training data.\n",
    "        \n",
    "        Args:\n",
    "          inputs (np.ndarray): A (batch size) x self.layers[0].num_nodes array\n",
    "          labels (np.ndarray): An array of ground-truth output labels, \n",
    "            length is the batch size.\n",
    "        \"\"\"\n",
    "        predicted = self.feedforward(inputs)\n",
    "        gradient_b, gradient_w = self.backProp(predicted, labels)\n",
    "        return (gradient_b, gradient_w, self.loss(predicted,labels))\n",
    "    \n",
    "    def train_epochs_minibatch(self, inputs, labels, epochs = 10, mini_batch=1):\n",
    "        '''\n",
    "        Args:\n",
    "          inputs (np.ndarray): A x self.layers[0].num_nodes array\n",
    "          labels (np.ndarray): An array of ground-truth output labels, \n",
    "            length is the inputs size.\n",
    "          epochs (int): Number of times the data is iterated through\n",
    "          mini_batch (int): Number of observations to train at a time\n",
    "        '''\n",
    "        if (inputs.shape[0] < mini_batch):\n",
    "            mini_batch = inputs.shape[0]\n",
    "        meanLossEpochs = []\n",
    "        for i in range(epochs):\n",
    "            print('Epoch#:',i)\n",
    "            sum_gradient_b = [np.zeros(b.shape) for b in self.biases]\n",
    "            sum_gradient_w = [np.zeros(w.shape) for w in self.weights]\n",
    "            sumLoss = 0\n",
    "            randomIndices = np.random.choice([i for i in range(len(inputs))], size=inputs.shape[0], replace=False)\n",
    "            for index, row in enumerate(randomIndices):\n",
    "                gradient_b, gradient_w, loss = self.train(np.matrix([inputs[row]]),np.matrix([labels[row]]))\n",
    "                sumLoss += loss\n",
    "                sum_gradient_b = [sb+gb for sb, gb in zip(sum_gradient_b,gradient_b)]\n",
    "                sum_gradient_w = [sw+gw for sw, gw in zip(sum_gradient_w, gradient_w)]\n",
    "                if ((index+1)%mini_batch == 0 or (index+1) == inputs.shape[0]):\n",
    "                    self.biases = [b-(self.learning_rate/mini_batch)*sb\n",
    "                                      for b, sb in zip(self.biases, sum_gradient_b)]\n",
    "                    self.weights = [w-(self.learning_rate/mini_batch)*sw\n",
    "                                     for w, sw in zip(self.weights, sum_gradient_w)]\n",
    "                    sum_gradient_b = [np.zeros(b.shape) for b in self.biases]\n",
    "                    sum_gradient_w = [np.zeros(w.shape) for w in self.weights]\n",
    "            avg_loss = sumLoss/inputs.shape[0]\n",
    "            meanLossEpochs.append(avg_loss)\n",
    "        return (meanLossEpochs)"
   ]
  },
  {
   "cell_type": "code",
   "execution_count": 276,
   "metadata": {},
   "outputs": [],
   "source": [
    "# Sigmoid must be applied to the last layer inorder for it to work\n",
    "network = FullyConnectedNeuralNetwork(\n",
    "    layers=[Layer(1), Layer(2, ReLU()), Layer(5, Sigmoid())],\n",
    "    loss = crossEntropy(),\n",
    "    learning_rate=0.005\n",
    ")"
   ]
  },
  {
   "cell_type": "code",
   "execution_count": 109,
   "metadata": {},
   "outputs": [],
   "source": [
    "test = pd.read_csv(\"train.csv\")"
   ]
  },
  {
   "cell_type": "code",
   "execution_count": 210,
   "metadata": {},
   "outputs": [
    {
     "data": {
      "text/html": [
       "<div>\n",
       "<style scoped>\n",
       "    .dataframe tbody tr th:only-of-type {\n",
       "        vertical-align: middle;\n",
       "    }\n",
       "\n",
       "    .dataframe tbody tr th {\n",
       "        vertical-align: top;\n",
       "    }\n",
       "\n",
       "    .dataframe thead th {\n",
       "        text-align: right;\n",
       "    }\n",
       "</style>\n",
       "<table border=\"1\" class=\"dataframe\">\n",
       "  <thead>\n",
       "    <tr style=\"text-align: right;\">\n",
       "      <th></th>\n",
       "      <th>ABV</th>\n",
       "      <th>appearance</th>\n",
       "      <th>aroma</th>\n",
       "      <th>overall</th>\n",
       "      <th>palate</th>\n",
       "      <th>taste</th>\n",
       "      <th>userBias</th>\n",
       "      <th>word_count</th>\n",
       "      <th>char_count</th>\n",
       "      <th>avg_word_len</th>\n",
       "      <th>...</th>\n",
       "      <th>Spain</th>\n",
       "      <th>Sri Lanka</th>\n",
       "      <th>Sweden</th>\n",
       "      <th>Switzerland</th>\n",
       "      <th>Taiwan, Province of China</th>\n",
       "      <th>Thailand</th>\n",
       "      <th>Togo</th>\n",
       "      <th>United Kingdom</th>\n",
       "      <th>United States</th>\n",
       "      <th>Location Unknown</th>\n",
       "    </tr>\n",
       "  </thead>\n",
       "  <tbody>\n",
       "    <tr>\n",
       "      <th>0</th>\n",
       "      <td>0.092014</td>\n",
       "      <td>0.7</td>\n",
       "      <td>0.750</td>\n",
       "      <td>1.0</td>\n",
       "      <td>0.750</td>\n",
       "      <td>0.875</td>\n",
       "      <td>0.745000</td>\n",
       "      <td>0.135593</td>\n",
       "      <td>0.135916</td>\n",
       "      <td>0.312620</td>\n",
       "      <td>...</td>\n",
       "      <td>0.0</td>\n",
       "      <td>0.0</td>\n",
       "      <td>0.0</td>\n",
       "      <td>0.0</td>\n",
       "      <td>0.0</td>\n",
       "      <td>0.0</td>\n",
       "      <td>0.0</td>\n",
       "      <td>0.0</td>\n",
       "      <td>0.0</td>\n",
       "      <td>0.0</td>\n",
       "    </tr>\n",
       "    <tr>\n",
       "      <th>1</th>\n",
       "      <td>0.192708</td>\n",
       "      <td>0.8</td>\n",
       "      <td>1.000</td>\n",
       "      <td>1.0</td>\n",
       "      <td>1.000</td>\n",
       "      <td>1.000</td>\n",
       "      <td>0.766250</td>\n",
       "      <td>0.238418</td>\n",
       "      <td>0.232877</td>\n",
       "      <td>0.270866</td>\n",
       "      <td>...</td>\n",
       "      <td>0.0</td>\n",
       "      <td>0.0</td>\n",
       "      <td>0.0</td>\n",
       "      <td>0.0</td>\n",
       "      <td>0.0</td>\n",
       "      <td>0.0</td>\n",
       "      <td>0.0</td>\n",
       "      <td>0.0</td>\n",
       "      <td>0.0</td>\n",
       "      <td>1.0</td>\n",
       "    </tr>\n",
       "    <tr>\n",
       "      <th>2</th>\n",
       "      <td>0.111111</td>\n",
       "      <td>0.8</td>\n",
       "      <td>0.875</td>\n",
       "      <td>1.0</td>\n",
       "      <td>0.875</td>\n",
       "      <td>0.875</td>\n",
       "      <td>0.775000</td>\n",
       "      <td>0.114124</td>\n",
       "      <td>0.119221</td>\n",
       "      <td>0.425918</td>\n",
       "      <td>...</td>\n",
       "      <td>0.0</td>\n",
       "      <td>0.0</td>\n",
       "      <td>0.0</td>\n",
       "      <td>0.0</td>\n",
       "      <td>0.0</td>\n",
       "      <td>0.0</td>\n",
       "      <td>0.0</td>\n",
       "      <td>0.0</td>\n",
       "      <td>0.0</td>\n",
       "      <td>1.0</td>\n",
       "    </tr>\n",
       "    <tr>\n",
       "      <th>3</th>\n",
       "      <td>0.123264</td>\n",
       "      <td>0.8</td>\n",
       "      <td>0.875</td>\n",
       "      <td>1.0</td>\n",
       "      <td>0.750</td>\n",
       "      <td>0.875</td>\n",
       "      <td>0.711000</td>\n",
       "      <td>0.213559</td>\n",
       "      <td>0.221747</td>\n",
       "      <td>0.344344</td>\n",
       "      <td>...</td>\n",
       "      <td>0.0</td>\n",
       "      <td>0.0</td>\n",
       "      <td>0.0</td>\n",
       "      <td>0.0</td>\n",
       "      <td>0.0</td>\n",
       "      <td>0.0</td>\n",
       "      <td>0.0</td>\n",
       "      <td>0.0</td>\n",
       "      <td>0.0</td>\n",
       "      <td>1.0</td>\n",
       "    </tr>\n",
       "    <tr>\n",
       "      <th>4</th>\n",
       "      <td>0.175347</td>\n",
       "      <td>0.8</td>\n",
       "      <td>0.875</td>\n",
       "      <td>1.0</td>\n",
       "      <td>0.875</td>\n",
       "      <td>0.875</td>\n",
       "      <td>0.755556</td>\n",
       "      <td>0.211299</td>\n",
       "      <td>0.209332</td>\n",
       "      <td>0.288806</td>\n",
       "      <td>...</td>\n",
       "      <td>0.0</td>\n",
       "      <td>0.0</td>\n",
       "      <td>0.0</td>\n",
       "      <td>0.0</td>\n",
       "      <td>0.0</td>\n",
       "      <td>0.0</td>\n",
       "      <td>0.0</td>\n",
       "      <td>0.0</td>\n",
       "      <td>0.0</td>\n",
       "      <td>1.0</td>\n",
       "    </tr>\n",
       "  </tbody>\n",
       "</table>\n",
       "<p>5 rows × 184 columns</p>\n",
       "</div>"
      ],
      "text/plain": [
       "        ABV  appearance  aroma  overall  palate  taste  userBias  word_count  \\\n",
       "0  0.092014         0.7  0.750      1.0   0.750  0.875  0.745000    0.135593   \n",
       "1  0.192708         0.8  1.000      1.0   1.000  1.000  0.766250    0.238418   \n",
       "2  0.111111         0.8  0.875      1.0   0.875  0.875  0.775000    0.114124   \n",
       "3  0.123264         0.8  0.875      1.0   0.750  0.875  0.711000    0.213559   \n",
       "4  0.175347         0.8  0.875      1.0   0.875  0.875  0.755556    0.211299   \n",
       "\n",
       "   char_count  avg_word_len        ...         Spain  Sri Lanka  Sweden  \\\n",
       "0    0.135916      0.312620        ...           0.0        0.0     0.0   \n",
       "1    0.232877      0.270866        ...           0.0        0.0     0.0   \n",
       "2    0.119221      0.425918        ...           0.0        0.0     0.0   \n",
       "3    0.221747      0.344344        ...           0.0        0.0     0.0   \n",
       "4    0.209332      0.288806        ...           0.0        0.0     0.0   \n",
       "\n",
       "   Switzerland  Taiwan, Province of China  Thailand  Togo  United Kingdom  \\\n",
       "0          0.0                        0.0       0.0   0.0             0.0   \n",
       "1          0.0                        0.0       0.0   0.0             0.0   \n",
       "2          0.0                        0.0       0.0   0.0             0.0   \n",
       "3          0.0                        0.0       0.0   0.0             0.0   \n",
       "4          0.0                        0.0       0.0   0.0             0.0   \n",
       "\n",
       "   United States  Location Unknown  \n",
       "0            0.0               0.0  \n",
       "1            0.0               1.0  \n",
       "2            0.0               1.0  \n",
       "3            0.0               1.0  \n",
       "4            0.0               1.0  \n",
       "\n",
       "[5 rows x 184 columns]"
      ]
     },
     "execution_count": 210,
     "metadata": {},
     "output_type": "execute_result"
    }
   ],
   "source": [
    "test.head()"
   ]
  },
  {
   "cell_type": "code",
   "execution_count": 277,
   "metadata": {},
   "outputs": [],
   "source": [
    "dependents = ['appearance','aroma','overall','palate','taste']"
   ]
  },
  {
   "cell_type": "code",
   "execution_count": 117,
   "metadata": {},
   "outputs": [],
   "source": [
    "independents = []\n",
    "for x in list(test.columns):\n",
    "    if (x not in dependents):\n",
    "        independents.append(x)"
   ]
  },
  {
   "cell_type": "code",
   "execution_count": 263,
   "metadata": {},
   "outputs": [],
   "source": [
    "independents = ['userBias']"
   ]
  },
  {
   "cell_type": "code",
   "execution_count": 44,
   "metadata": {},
   "outputs": [],
   "source": [
    "def makeXandY(data, dependentNames, independentName, intercept):\n",
    "    X = np.array(data[dependentNames])\n",
    "    if (intercept):\n",
    "        X = np.insert(X, 0, 1, axis=1)\n",
    "    y = np.array(data[independentName])\n",
    "    return X, y"
   ]
  },
  {
   "cell_type": "code",
   "execution_count": 278,
   "metadata": {},
   "outputs": [],
   "source": [
    "x, y = makeXandY(test, independents, dependents, False)"
   ]
  },
  {
   "cell_type": "code",
   "execution_count": 279,
   "metadata": {},
   "outputs": [
    {
     "data": {
      "text/plain": [
       "(37500, 1)"
      ]
     },
     "execution_count": 279,
     "metadata": {},
     "output_type": "execute_result"
    }
   ],
   "source": [
    "x.shape"
   ]
  },
  {
   "cell_type": "code",
   "execution_count": 280,
   "metadata": {},
   "outputs": [
    {
     "data": {
      "text/plain": [
       "(37500, 5)"
      ]
     },
     "execution_count": 280,
     "metadata": {},
     "output_type": "execute_result"
    }
   ],
   "source": [
    "y.shape"
   ]
  },
  {
   "cell_type": "code",
   "execution_count": 292,
   "metadata": {},
   "outputs": [],
   "source": [
    "testX = x[:100]\n",
    "testY = y[:100]\n",
    "trainX = x[100:1000]\n",
    "trainY = y[100:1000]"
   ]
  },
  {
   "cell_type": "code",
   "execution_count": 294,
   "metadata": {},
   "outputs": [
    {
     "name": "stdout",
     "output_type": "stream",
     "text": [
      "Epoch#: 0\n",
      "Epoch#: 1\n",
      "Epoch#: 2\n",
      "Epoch#: 3\n",
      "Epoch#: 4\n",
      "Epoch#: 5\n",
      "Epoch#: 6\n",
      "Epoch#: 7\n",
      "Epoch#: 8\n",
      "Epoch#: 9\n"
     ]
    }
   ],
   "source": [
    "epochsMeanError = network.train_epochs_minibatch(trainX, trainY, epochs=10, mini_batch=1)"
   ]
  },
  {
   "cell_type": "code",
   "execution_count": 283,
   "metadata": {},
   "outputs": [
    {
     "data": {
      "text/plain": [
       "array([ 0.7  ,  0.75 ,  1.   ,  0.75 ,  0.875])"
      ]
     },
     "execution_count": 283,
     "metadata": {},
     "output_type": "execute_result"
    }
   ],
   "source": [
    "testY"
   ]
  },
  {
   "cell_type": "code",
   "execution_count": 295,
   "metadata": {},
   "outputs": [
    {
     "data": {
      "text/plain": [
       "matrix([[ 0.87259022,  0.87222825,  0.99930779,  0.88324609,  0.92021554],\n",
       "        [ 0.87500957,  0.87464701,  0.99938885,  0.88613176,  0.92322206],\n",
       "        [ 0.87599428,  0.87563151,  0.99941941,  0.8873018 ,  0.92442958],\n",
       "        [ 0.86863616,  0.86827545,  0.99915517,  0.8784971 ,  0.91518099],\n",
       "        [ 0.87379695,  0.87343466,  0.99934932,  0.88468735,  0.92172219],\n",
       "        [ 0.89432632,  0.89396461,  0.99979188,  0.90858118,  0.94517911],\n",
       "        [ 0.87831202,  0.87794889,  0.99948615,  0.89004542,  0.92723474],\n",
       "        [ 0.87649411,  0.87613125,  0.9994344 ,  0.8878947 ,  0.92503893],\n",
       "        [ 0.87976745,  0.87940416,  0.99952457,  0.89176074,  0.92896956],\n",
       "        [ 0.87027677,  0.86991549,  0.99922172,  0.88047241,  0.91728805],\n",
       "        [ 0.88934728,  0.88898435,  0.99972099,  0.90290018,  0.93987089],\n",
       "        [ 0.86897613,  0.8686153 ,  0.99916935,  0.87890699,  0.91561973],\n",
       "        [ 0.89674101,  0.89638015,  0.99982026,  0.91130814,  0.94766473],\n",
       "        [ 0.87302687,  0.87266477,  0.99932308,  0.88376804,  0.92076233],\n",
       "        [ 0.87273669,  0.87237467,  0.99931295,  0.88342123,  0.92039916],\n",
       "        [ 0.8669469 ,  0.86658685,  0.99908154,  0.87645613,  0.91298471],\n",
       "        [ 0.89674101,  0.89638015,  0.99982026,  0.91130814,  0.94766473],\n",
       "        [ 0.87316306,  0.87280093,  0.99932778,  0.88393073,  0.92093249],\n",
       "        [ 0.88095377,  0.88059038,  0.99955402,  0.89315453,  0.93036833],\n",
       "        [ 0.86843602,  0.86807539,  0.99914673,  0.87825567,  0.91492219],\n",
       "        [ 0.87599428,  0.87563151,  0.99941941,  0.8873018 ,  0.92442958],\n",
       "        [ 0.88110836,  0.88074497,  0.99955774,  0.89333587,  0.93054961],\n",
       "        [ 0.87954233,  0.87917906,  0.99951879,  0.89149581,  0.92870257],\n",
       "        [ 0.87316306,  0.87280093,  0.99932778,  0.88393073,  0.92093249],\n",
       "        [ 0.86669705,  0.8663371 ,  0.99907019,  0.87615365,  0.91265756],\n",
       "        [ 0.89674101,  0.89638015,  0.99982026,  0.91130814,  0.94766473],\n",
       "        [ 0.89186198,  0.89149957,  0.99975903,  0.90577904,  0.94258258],\n",
       "        [ 0.86433647,  0.86397757,  0.99895678,  0.87328827,  0.90953766],\n",
       "        [ 0.87316306,  0.87280093,  0.99932778,  0.88393073,  0.92093249],\n",
       "        [ 0.87599428,  0.87563151,  0.99941941,  0.8873018 ,  0.92442958],\n",
       "        [ 0.88416403,  0.88380059,  0.99962594,  0.89690621,  0.93408454],\n",
       "        [ 0.88327991,  0.88291646,  0.99960722,  0.89587593,  0.93307116],\n",
       "        [ 0.87117076,  0.8708092 ,  0.99925602,  0.88154589,  0.9184254 ],\n",
       "        [ 0.8752916 ,  0.87492897,  0.99939774,  0.88646713,  0.92356886],\n",
       "        [ 0.87954233,  0.87917906,  0.99951879,  0.89149581,  0.92870257],\n",
       "        [ 0.89910674,  0.89874689,  0.99984477,  0.91396147,  0.95004362],\n",
       "        [ 0.87017625,  0.86981501,  0.99921777,  0.88035158,  0.91715969],\n",
       "        [ 0.87411288,  0.87375052,  0.99935983,  0.88506404,  0.92211432],\n",
       "        [ 0.87302687,  0.87266477,  0.99932308,  0.88376804,  0.92076233],\n",
       "        [ 0.87573915,  0.87537644,  0.99941162,  0.8869989 ,  0.92411763],\n",
       "        [ 0.89432632,  0.89396461,  0.99979188,  0.90858118,  0.94517911],\n",
       "        [ 0.87257551,  0.87221354,  0.99930727,  0.88322849,  0.92019708],\n",
       "        [ 0.87316306,  0.87280093,  0.99932778,  0.88393073,  0.92093249],\n",
       "        [ 0.87442814,  0.8740657 ,  0.99937016,  0.88543967,  0.92250466],\n",
       "        [ 0.87785148,  0.87748841,  0.99947344,  0.88950142,  0.92668149],\n",
       "        [ 0.87661602,  0.87625315,  0.99943801,  0.88803922,  0.92518719],\n",
       "        [ 0.88482329,  0.88445988,  0.9996394 ,  0.89767299,  0.93483519],\n",
       "        [ 0.87117076,  0.8708092 ,  0.99925602,  0.88154589,  0.9184254 ],\n",
       "        [ 0.88482329,  0.88445988,  0.9996394 ,  0.89767299,  0.93483519],\n",
       "        [ 0.89268899,  0.89232679,  0.99977052,  0.90672153,  0.94346067],\n",
       "        [ 0.87080567,  0.87044422,  0.99924217,  0.88110775,  0.91796185],\n",
       "        [ 0.87515828,  0.87479568,  0.99939355,  0.88630862,  0.92340501],\n",
       "        [ 0.86683899,  0.86647898,  0.99907666,  0.8763255 ,  0.91284348],\n",
       "        [ 0.87519094,  0.87482833,  0.99939458,  0.88634745,  0.92344517],\n",
       "        [ 0.87131395,  0.87095234,  0.99926139,  0.88171763,  0.91860685],\n",
       "        [ 0.86930233,  0.86894138,  0.99918277,  0.8793    ,  0.91603965],\n",
       "        [ 0.88678153,  0.88641825,  0.99967694,  0.89994309,  0.93703969],\n",
       "        [ 0.89432632,  0.89396461,  0.99979188,  0.90858118,  0.94517911],\n",
       "        [ 0.86290584,  0.86254763,  0.99888235,  0.87154511,  0.90762133],\n",
       "        [ 0.88327991,  0.88291646,  0.99960722,  0.89587593,  0.93307116],\n",
       "        [ 0.86760455,  0.86724424,  0.99911085,  0.87725155,  0.91384297],\n",
       "        [ 0.87766684,  0.8773038 ,  0.99946827,  0.88928317,  0.92645911],\n",
       "        [ 0.88764249,  0.88727931,  0.99969234,  0.90093757,  0.93799698],\n",
       "        [ 0.87415404,  0.87379167,  0.99936118,  0.8851131 ,  0.92216534],\n",
       "        [ 0.87302687,  0.87266477,  0.99932308,  0.88376804,  0.92076233],\n",
       "        [ 0.8730439 ,  0.8726818 ,  0.99932367,  0.88378839,  0.92078361],\n",
       "        [ 0.87440075,  0.87403832,  0.99936927,  0.88540705,  0.92247079],\n",
       "        [ 0.86172121,  0.8613636 ,  0.99881725,  0.87009796,  0.90602   ],\n",
       "        [ 0.87945684,  0.87909358,  0.99951658,  0.89139516,  0.92860105],\n",
       "        [ 0.88678153,  0.88641825,  0.99967694,  0.89994309,  0.93703969],\n",
       "        [ 0.89186198,  0.89149957,  0.99975903,  0.90577904,  0.94258258],\n",
       "        [ 0.87723509,  0.87687211,  0.99945601,  0.88877243,  0.92593781],\n",
       "        [ 0.89674101,  0.89638015,  0.99982026,  0.91130814,  0.94766473],\n",
       "        [ 0.87048984,  0.87012849,  0.99923001,  0.88072845,  0.91755981],\n",
       "        [ 0.87704192,  0.87667897,  0.99945045,  0.88854375,  0.92570399],\n",
       "        [ 0.87701872,  0.87665578,  0.99944978,  0.88851628,  0.92567588],\n",
       "        [ 0.87038466,  0.87002334,  0.99922593,  0.88060207,  0.91742571],\n",
       "        [ 0.87072442,  0.870363  ,  0.99923906,  0.8810102 ,  0.91785851],\n",
       "        [ 0.89186198,  0.89149957,  0.99975903,  0.90577904,  0.94258258],\n",
       "        [ 0.86940005,  0.86903907,  0.99918675,  0.87941768,  0.91616526],\n",
       "        [ 0.87994463,  0.87958132,  0.99952907,  0.89196916,  0.92917934],\n",
       "        [ 0.89910674,  0.89874689,  0.99984477,  0.91396147,  0.95004362],\n",
       "        [ 0.86413457,  0.86377576,  0.99894655,  0.87304256,  0.90926838],\n",
       "        [ 0.88807083,  0.8877077 ,  0.99969977,  0.90143151,  0.93847051],\n",
       "        [ 0.87411288,  0.87375052,  0.99935983,  0.88506404,  0.92211432],\n",
       "        [ 0.84313344,  0.8427893 ,  0.99726381,  0.84697806,  0.8792131 ],\n",
       "        [ 0.87458551,  0.87422304,  0.99937527,  0.88562708,  0.92269915],\n",
       "        [ 0.87128077,  0.87091917,  0.99926015,  0.88167784,  0.91856482],\n",
       "        [ 0.87199385,  0.87163204,  0.99928644,  0.8825324 ,  0.91946578],\n",
       "        [ 0.89910674,  0.89874689,  0.99984477,  0.91396147,  0.95004362],\n",
       "        [ 0.88203231,  0.88166888,  0.99957941,  0.89441826,  0.93162812],\n",
       "        [ 0.88194276,  0.88157933,  0.99957735,  0.89431345,  0.93152395],\n",
       "        [ 0.87675695,  0.87639406,  0.99944215,  0.88820623,  0.9253584 ],\n",
       "        [ 0.88807083,  0.8877077 ,  0.99969977,  0.90143151,  0.93847051],\n",
       "        [ 0.86862879,  0.86826809,  0.99915486,  0.87848822,  0.91517147],\n",
       "        [ 0.87599428,  0.87563151,  0.99941941,  0.8873018 ,  0.92442958],\n",
       "        [ 0.88934728,  0.88898435,  0.99972099,  0.90290018,  0.93987089],\n",
       "        [ 0.88232124,  0.8819578 ,  0.999586  ,  0.89475623,  0.93196366],\n",
       "        [ 0.8814941 ,  0.88113069,  0.9995669 ,  0.89378805,  0.93100089],\n",
       "        [ 0.86332441,  0.86296599,  0.99890459,  0.87205563,  0.908184  ]])"
      ]
     },
     "execution_count": 295,
     "metadata": {},
     "output_type": "execute_result"
    }
   ],
   "source": [
    "network.predict(testX)"
   ]
  },
  {
   "cell_type": "code",
   "execution_count": 291,
   "metadata": {},
   "outputs": [
    {
     "data": {
      "text/plain": [
       "matrix([[ 0.66339757,  0.7132823 ,  0.97382122,  0.73408313,  0.8735975 ]])"
      ]
     },
     "execution_count": 291,
     "metadata": {},
     "output_type": "execute_result"
    }
   ],
   "source": [
    "# Predict to find error\n",
    "network.predict(testX)"
   ]
  },
  {
   "cell_type": "code",
   "execution_count": 17,
   "metadata": {},
   "outputs": [],
   "source": [
    "import matplotlib.pyplot as plt\n",
    "%matplotlib inline"
   ]
  },
  {
   "cell_type": "code",
   "execution_count": 28,
   "metadata": {},
   "outputs": [],
   "source": [
    "xs = np.arange(50)"
   ]
  },
  {
   "cell_type": "code",
   "execution_count": 38,
   "metadata": {},
   "outputs": [
    {
     "data": {
      "text/plain": [
       "Text(0.5,1,'Cross Entropy Loss Function')"
      ]
     },
     "execution_count": 38,
     "metadata": {},
     "output_type": "execute_result"
    },
    {
     "data": {
      "image/png": "[encoded data removed]",
      "text/plain": [
       "<Figure size 432x288 with 1 Axes>"
      ]
     },
     "metadata": {},
     "output_type": "display_data"
    }
   ],
   "source": [
    "plt.plot(xs,epochsMeanError)\n",
    "plt.xlabel('Epoch')\n",
    "plt.ylabel('Mean Error')\n",
    "plt.title(\"Cross Entropy Loss Function\")"
   ]
  },
  {
   "cell_type": "code",
   "execution_count": 35,
   "metadata": {},
   "outputs": [
    {
     "data": {
      "text/plain": [
       "Text(0.5,1,'Squared Error Loss Function')"
      ]
     },
     "execution_count": 35,
     "metadata": {},
     "output_type": "execute_result"
    },
    {
     "data": {
      "image/png": "[encoded data removed]",
      "text/plain": [
       "<Figure size 432x288 with 1 Axes>"
      ]
     },
     "metadata": {},
     "output_type": "display_data"
    }
   ],
   "source": [
    "plt.plot(xs,epochsMeanError)\n",
    "plt.xlabel('Epoch')\n",
    "plt.ylabel('Mean Error')\n",
    "plt.title(\"Squared Error Loss Function\")"
   ]
  },
  {
   "cell_type": "code",
   "execution_count": null,
   "metadata": {},
   "outputs": [],
   "source": []
  }
 ],
 "metadata": {
  "kernelspec": {
   "display_name": "Python 3",
   "language": "python",
   "name": "python3"
  },
  "language_info": {
   "codemirror_mode": {
    "name": "ipython",
    "version": 3
   },
   "file_extension": ".py",
   "mimetype": "text/x-python",
   "name": "python",
   "nbconvert_exporter": "python",
   "pygments_lexer": "ipython3",
   "version": "3.6.5"
  }
 },
 "nbformat": 4,
 "nbformat_minor": 2
}
