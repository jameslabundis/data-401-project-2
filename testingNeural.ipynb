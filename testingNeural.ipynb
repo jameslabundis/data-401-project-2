{
 "cells": [
  {
   "cell_type": "code",
   "execution_count": 1,
   "metadata": {},
   "outputs": [],
   "source": [
    "import numpy as np\n",
    "import pandas as pd\n",
    "import matplotlib.pyplot as plt\n",
    "import random\n",
    "from sklearn.model_selection import KFold\n",
    "import pandas as pd\n",
    "%matplotlib inline\n",
    "import copy"
   ]
  },
  {
   "cell_type": "code",
   "execution_count": 2,
   "metadata": {},
   "outputs": [],
   "source": [
    "class Loss(object):\n",
    "    \n",
    "    def __call__(self, predicted, actual):\n",
    "        \"\"\"Calculates the loss as a function of the prediction and the actual.\n",
    "        \n",
    "        Args:\n",
    "          predicted (np.ndarray, float): the predicted output labels\n",
    "          actual (np.ndarray, float): the actual output labels\n",
    "          \n",
    "        Returns: (float) \n",
    "          The value of the loss for this batch of observations.\n",
    "        \"\"\"\n",
    "        raise NotImplementedError\n",
    "        \n",
    "    def derivative(self, predicted, actual):\n",
    "        \"\"\"The derivative of the loss with respect to the prediction.\n",
    "        \n",
    "        Args:\n",
    "          predicted (np.ndarray, float): the predicted output labels\n",
    "          actual (np.ndarray, float): the actual output labels\n",
    "          \n",
    "        Returns: (np.ndarray, float) \n",
    "          The derivatives of the loss.\n",
    "        \"\"\"\n",
    "        raise NotImplementedError\n",
    "        \n",
    "        \n",
    "class SquaredErrorLoss(Loss):\n",
    "    \n",
    "    def __call__(self, predicted, actual):\n",
    "        return 0.5*np.sum(\n",
    "            np.multiply((predicted - actual), (predicted - actual))\n",
    "        )\n",
    "    \n",
    "    def delta(self, z_prime, predicted, actual):\n",
    "        return (\n",
    "            np.multiply((predicted - actual), z_prime.T)\n",
    "        )\n",
    "\n",
    "class crossEntropy(Loss):\n",
    "    \n",
    "    def __call__(self, predicted, actual):\n",
    "        return np.sum(\n",
    "            np.nan_to_num(np.multiply(-actual,np.log(predicted))-np.multiply((1-actual),np.log(1-predicted)))\n",
    "        )\n",
    "    \n",
    "    def delta(self, z_prime, predicted, actual):\n",
    "        return (\n",
    "            (predicted-actual)\n",
    "        )"
   ]
  },
  {
   "cell_type": "code",
   "execution_count": 3,
   "metadata": {},
   "outputs": [],
   "source": [
    "class ActivationFunction(object):\n",
    "        \n",
    "    def __call__(self, a):\n",
    "        \"\"\"Applies activation function to the values in a layer.\n",
    "        \n",
    "        Args:\n",
    "          a (np.ndarray, float): the values from the previous layer (after \n",
    "            multiplying by the weights.\n",
    "          \n",
    "        Returns: (np.ndarray, float) \n",
    "          The values h = g(a).\n",
    "        \"\"\"\n",
    "        return a\n",
    "    \n",
    "    def derivative(self, h):\n",
    "        \"\"\"The derivatives as a function of the outputs at the nodes.\n",
    "        \n",
    "        Args:\n",
    "          h (np.ndarray, float): the outputs h = g(a) at the nodes.\n",
    "          \n",
    "        Returns: (np.ndarray, float) \n",
    "          The derivatives dh/da.\n",
    "        \"\"\"\n",
    "        return np.ones(h.shape)\n",
    "    \n",
    "class ReLU(ActivationFunction):\n",
    "    \n",
    "    def __call__(self, a):\n",
    "        return np.where(a > 0, a, 0)\n",
    "    \n",
    "    def derivative(self, a):\n",
    "        return np.where(a > 0, 1, 0)\n",
    "\n",
    "class Sigmoid(ActivationFunction):\n",
    "    \n",
    "    def __call__(self, a):\n",
    "        return 1/(1 + np.exp(-a))\n",
    "    \n",
    "    def derivative(self, a):\n",
    "        e = self.__call__(a)\n",
    "        return  np.multiply(e, (1 - e))"
   ]
  },
  {
   "cell_type": "code",
   "execution_count": 4,
   "metadata": {},
   "outputs": [],
   "source": [
    "class Layer(object):\n",
    "    \"\"\"A data structure for a layer in a neural network.\n",
    "    \n",
    "    Attributes:\n",
    "      num_nodes (int): number of nodes in the layer\n",
    "      activation_function (ActivationFunction)\n",
    "      values_pre_activation (np.ndarray, float): most recent values\n",
    "        in layer, before applying activation function\n",
    "      values_post_activation (np.ndarray, float): most recent values\n",
    "        in layer, after applying activation function\n",
    "    \"\"\"\n",
    "    \n",
    "    def __init__(self, num_nodes, activation_function=ActivationFunction()):\n",
    "        self.num_nodes = num_nodes\n",
    "        self.activation_function = activation_function\n",
    "        \n",
    "    def get_layer_values(self, values_pre_activation):\n",
    "        \"\"\"Applies activation function to values from previous layer.\n",
    "        \n",
    "        Stores the values (both before and after applying activation \n",
    "        function)\n",
    "        \n",
    "        Args:\n",
    "          values_pre_activation (np.ndarray, float): \n",
    "            A (batch size) x self.num_nodes array of the values\n",
    "            in layer before applying the activation function\n",
    "        \n",
    "        Returns: (np.ndarray, float)\n",
    "            A (batch size) x self.num_nodes array of the values\n",
    "            in layer after applying the activation function\n",
    "        \"\"\"\n",
    "        self.values_pre_activation = values_pre_activation\n",
    "        self.values_post_activation = self.activation_function(\n",
    "            values_pre_activation\n",
    "        )\n",
    "        return self.values_post_activation\n",
    "    \n",
    "    def get_layer_derivatives(self, values_pre_activation):\n",
    "        return self.activation_function.derivative(\n",
    "            values_pre_activation\n",
    "        )"
   ]
  },
  {
   "cell_type": "code",
   "execution_count": 5,
   "metadata": {},
   "outputs": [],
   "source": [
    "class FullyConnectedNeuralNetwork(object):\n",
    "    \"\"\"A data structure for a fully-connected neural network.\n",
    "    \n",
    "    Attributes:\n",
    "      layers (Layer): A list of Layer objects.\n",
    "      loss (Loss): The loss function to use in training.\n",
    "      learning_rate (float): The learning rate to use in backpropagation.\n",
    "      weights (list, np.ndarray): A list of weight matrices,\n",
    "        length should be len(self.layers) - 1\n",
    "      biases (list, float): A list of bias terms,\n",
    "        length should be equal to len(self.layers)\n",
    "    \"\"\"\n",
    "    \n",
    "    def __init__(self, layers, loss, learning_rate):\n",
    "        self.layers = layers\n",
    "        self.loss = loss\n",
    "        self.learning_rate = learning_rate\n",
    "        \n",
    "        # initialize weight matrices and biases to zeros\n",
    "        self.weights = []\n",
    "        self.biases = []\n",
    "        mu, sigma = 0, 1\n",
    "        for i in range(1, len(self.layers)):\n",
    "            w = np.matrix(np.random.normal(mu, sigma, (self.layers[i - 1].num_nodes, self.layers[i].num_nodes))/np.sqrt(self.layers[i - 1].num_nodes))\n",
    "            self.weights.append(w)\n",
    "            self.biases.append(np.zeros(self.layers[i].num_nodes))\n",
    "        \n",
    "    def feedforward(self, inputs):\n",
    "        \"\"\"Predicts the output(s) for a given set of input(s).\n",
    "        \n",
    "        Args:\n",
    "          inputs (np.ndarray, float): A (batch size) x self.layers[0].num_nodes array\n",
    "          \n",
    "        Returns: (np.ndarray, float) \n",
    "          An array of the predicted output labels, length is the batch size\n",
    "        \"\"\"\n",
    "        self.storedValuesZ = [inputs]\n",
    "        self.storedValuesA = [inputs]\n",
    "        a = inputs\n",
    "        \n",
    "        ## Iterate layers\n",
    "        for i, layer in enumerate(self.layers):\n",
    "            ## g(hw + b),  h = previous layer values\n",
    "            if i != len(self.layers) - 1:\n",
    "                z = np.matrix(np.add(a * self.weights[i], np.matrix(self.biases[i])))\n",
    "                self.storedValuesZ.append(z)\n",
    "                a = np.matrix(self.layers[i + 1].get_layer_values(z))\n",
    "                self.storedValuesA.append(a)\n",
    "        return a\n",
    "    \n",
    "    def predict(self, inputs):\n",
    "        a = inputs\n",
    "        ## Iterate layers\n",
    "        for i, layer in enumerate(self.layers):\n",
    "            ## g(hw + b),  h = previous layer values\n",
    "            if i != len(self.layers) - 1:\n",
    "                z = np.matrix(np.add(a * self.weights[i], np.matrix(self.biases[i])))\n",
    "                a = self.layers[i+1].get_layer_values(z)\n",
    "        return a\n",
    "    \n",
    "    def backProp(self, predicted, actual):\n",
    "        gradient_b = [np.zeros(b.shape) for b in self.biases]\n",
    "        gradient_w = [np.zeros(w.shape) for w in self.weights]\n",
    "        # Update First weights\n",
    "        z_prime = 0\n",
    "        if (type(self.loss) == type(SquaredErrorLoss())):\n",
    "            z_prime = self.layers[-1].get_layer_derivatives(self.storedValuesZ[-1]).T\n",
    "        delta = self.loss.delta(z_prime, predicted, actual).T\n",
    "        dLdw = np.multiply(delta,self.storedValuesA[-2]).T\n",
    "        \n",
    "        gradient_b[-1] = delta.T\n",
    "        gradient_w[-1] = dLdw\n",
    "        #self.updatedWeights[-1]= self.weights[-1] - self.learning_rate * dLdw\n",
    "        #self.updatedBiases[-1] = self.biases[-1] - np.multiply(self.learning_rate, delta).T\n",
    "        \n",
    "        # Update rest of the weights\n",
    "        for l in range(2, len(self.layers)):\n",
    "            z = self.storedValuesZ[-l]\n",
    "            dadz = self.layers[-l].get_layer_derivatives(z)\n",
    "            delta = np.multiply(self.weights[-l + 1] * delta, dadz.T)\n",
    "            dLdw = np.multiply(delta, self.storedValuesA[-l - 1]).T\n",
    "            gradient_b[-l] = delta.T\n",
    "            gradient_w[-l] = dLdw\n",
    "            #self.updatedBiases[-l] = self.biases[-l] - np.multiply(self.learning_rate, delta).T\n",
    "            #self.updatedWeights[-l] = self.weights[-l] - np.multiply(self.learning_rate, np.dot(delta, self.storedValuesA[-l - 1])).T\n",
    "        return (gradient_b, gradient_w)\n",
    "        \n",
    "    def train(self, inputs, labels):\n",
    "        \"\"\"Trains neural network based on a batch of training data.\n",
    "        \n",
    "        Args:\n",
    "          inputs (np.ndarray): A (batch size) x self.layers[0].num_nodes array\n",
    "          labels (np.ndarray): An array of ground-truth output labels, \n",
    "            length is the batch size.\n",
    "        \"\"\"\n",
    "        predicted = self.feedforward(inputs)\n",
    "        gradient_b, gradient_w = self.backProp(predicted, labels)\n",
    "        return (gradient_b, gradient_w, self.loss(predicted,labels))\n",
    "    \n",
    "    def getWeights(self):\n",
    "        return(self.weights)\n",
    "    \n",
    "    def train_epochs_minibatch(self, inputs, labels, epochs = 10, mini_batch=1):\n",
    "        '''\n",
    "        Args:\n",
    "          inputs (np.ndarray): A x self.layers[0].num_nodes array\n",
    "          labels (np.ndarray): An array of ground-truth output labels, \n",
    "            length is the inputs size.\n",
    "          epochs (int): Number of times the data is iterated through\n",
    "          mini_batch (int): Number of observations to train at a time\n",
    "        '''\n",
    "        if (inputs.shape[0] < mini_batch):\n",
    "            mini_batch = inputs.shape[0]\n",
    "        meanLossEpochs = []\n",
    "        for i in range(epochs):\n",
    "            print('Epoch#:',i)\n",
    "            sum_gradient_b = [np.zeros(b.shape) for b in self.biases]\n",
    "            sum_gradient_w = [np.zeros(w.shape) for w in self.weights]\n",
    "            sumLoss = 0\n",
    "            randomIndices = np.random.choice([i for i in range(len(inputs))], size=inputs.shape[0], replace=False)\n",
    "            for index, row in enumerate(randomIndices):\n",
    "                gradient_b, gradient_w, loss = self.train(np.matrix([inputs[row]]),np.matrix([labels[row]]))\n",
    "                sumLoss += loss\n",
    "                sum_gradient_b = [sb+gb for sb, gb in zip(sum_gradient_b,gradient_b)]\n",
    "                sum_gradient_w = [sw+gw for sw, gw in zip(sum_gradient_w, gradient_w)]\n",
    "                if ((index+1)%mini_batch == 0 or (index+1) == inputs.shape[0]):\n",
    "                    self.biases = [b-(self.learning_rate/mini_batch)*sb\n",
    "                                      for b, sb in zip(self.biases, sum_gradient_b)]\n",
    "                    self.weights = [w-(self.learning_rate/mini_batch)*sw\n",
    "                                     for w, sw in zip(self.weights, sum_gradient_w)]\n",
    "                    sum_gradient_b = [np.zeros(b.shape) for b in self.biases]\n",
    "                    sum_gradient_w = [np.zeros(w.shape) for w in self.weights]\n",
    "            avg_loss = sumLoss/inputs.shape[0]\n",
    "            meanLossEpochs.append(avg_loss)\n",
    "        return (meanLossEpochs)"
   ]
  },
  {
   "cell_type": "code",
   "execution_count": 6,
   "metadata": {},
   "outputs": [],
   "source": [
    "# Sigmoid must be applied to the last layer inorder for it to work\n",
    "network = FullyConnectedNeuralNetwork(\n",
    "    layers=[Layer(179), Layer(50, ReLU()), Layer(20), Layer(1, Sigmoid())],\n",
    "    loss = crossEntropy(),\n",
    "    learning_rate=0.005\n",
    ")"
   ]
  },
  {
   "cell_type": "code",
   "execution_count": 7,
   "metadata": {},
   "outputs": [],
   "source": [
    "test = pd.read_csv(\"train.csv\")"
   ]
  },
  {
   "cell_type": "code",
   "execution_count": 8,
   "metadata": {},
   "outputs": [
    {
     "data": {
      "text/html": [
       "<div>\n",
       "<style scoped>\n",
       "    .dataframe tbody tr th:only-of-type {\n",
       "        vertical-align: middle;\n",
       "    }\n",
       "\n",
       "    .dataframe tbody tr th {\n",
       "        vertical-align: top;\n",
       "    }\n",
       "\n",
       "    .dataframe thead th {\n",
       "        text-align: right;\n",
       "    }\n",
       "</style>\n",
       "<table border=\"1\" class=\"dataframe\">\n",
       "  <thead>\n",
       "    <tr style=\"text-align: right;\">\n",
       "      <th></th>\n",
       "      <th>ABV</th>\n",
       "      <th>appearance</th>\n",
       "      <th>aroma</th>\n",
       "      <th>overall</th>\n",
       "      <th>palate</th>\n",
       "      <th>taste</th>\n",
       "      <th>userBias</th>\n",
       "      <th>word_count</th>\n",
       "      <th>char_count</th>\n",
       "      <th>avg_word_len</th>\n",
       "      <th>...</th>\n",
       "      <th>Spain</th>\n",
       "      <th>Sri Lanka</th>\n",
       "      <th>Sweden</th>\n",
       "      <th>Switzerland</th>\n",
       "      <th>Taiwan, Province of China</th>\n",
       "      <th>Thailand</th>\n",
       "      <th>Togo</th>\n",
       "      <th>United Kingdom</th>\n",
       "      <th>United States</th>\n",
       "      <th>Location Unknown</th>\n",
       "    </tr>\n",
       "  </thead>\n",
       "  <tbody>\n",
       "    <tr>\n",
       "      <th>0</th>\n",
       "      <td>0.092014</td>\n",
       "      <td>0.7</td>\n",
       "      <td>0.750</td>\n",
       "      <td>1.0</td>\n",
       "      <td>0.750</td>\n",
       "      <td>0.875</td>\n",
       "      <td>0.745000</td>\n",
       "      <td>0.135593</td>\n",
       "      <td>0.135916</td>\n",
       "      <td>0.312620</td>\n",
       "      <td>...</td>\n",
       "      <td>0.0</td>\n",
       "      <td>0.0</td>\n",
       "      <td>0.0</td>\n",
       "      <td>0.0</td>\n",
       "      <td>0.0</td>\n",
       "      <td>0.0</td>\n",
       "      <td>0.0</td>\n",
       "      <td>0.0</td>\n",
       "      <td>0.0</td>\n",
       "      <td>0.0</td>\n",
       "    </tr>\n",
       "    <tr>\n",
       "      <th>1</th>\n",
       "      <td>0.192708</td>\n",
       "      <td>0.8</td>\n",
       "      <td>1.000</td>\n",
       "      <td>1.0</td>\n",
       "      <td>1.000</td>\n",
       "      <td>1.000</td>\n",
       "      <td>0.766250</td>\n",
       "      <td>0.238418</td>\n",
       "      <td>0.232877</td>\n",
       "      <td>0.270866</td>\n",
       "      <td>...</td>\n",
       "      <td>0.0</td>\n",
       "      <td>0.0</td>\n",
       "      <td>0.0</td>\n",
       "      <td>0.0</td>\n",
       "      <td>0.0</td>\n",
       "      <td>0.0</td>\n",
       "      <td>0.0</td>\n",
       "      <td>0.0</td>\n",
       "      <td>0.0</td>\n",
       "      <td>1.0</td>\n",
       "    </tr>\n",
       "    <tr>\n",
       "      <th>2</th>\n",
       "      <td>0.111111</td>\n",
       "      <td>0.8</td>\n",
       "      <td>0.875</td>\n",
       "      <td>1.0</td>\n",
       "      <td>0.875</td>\n",
       "      <td>0.875</td>\n",
       "      <td>0.775000</td>\n",
       "      <td>0.114124</td>\n",
       "      <td>0.119221</td>\n",
       "      <td>0.425918</td>\n",
       "      <td>...</td>\n",
       "      <td>0.0</td>\n",
       "      <td>0.0</td>\n",
       "      <td>0.0</td>\n",
       "      <td>0.0</td>\n",
       "      <td>0.0</td>\n",
       "      <td>0.0</td>\n",
       "      <td>0.0</td>\n",
       "      <td>0.0</td>\n",
       "      <td>0.0</td>\n",
       "      <td>1.0</td>\n",
       "    </tr>\n",
       "    <tr>\n",
       "      <th>3</th>\n",
       "      <td>0.123264</td>\n",
       "      <td>0.8</td>\n",
       "      <td>0.875</td>\n",
       "      <td>1.0</td>\n",
       "      <td>0.750</td>\n",
       "      <td>0.875</td>\n",
       "      <td>0.711000</td>\n",
       "      <td>0.213559</td>\n",
       "      <td>0.221747</td>\n",
       "      <td>0.344344</td>\n",
       "      <td>...</td>\n",
       "      <td>0.0</td>\n",
       "      <td>0.0</td>\n",
       "      <td>0.0</td>\n",
       "      <td>0.0</td>\n",
       "      <td>0.0</td>\n",
       "      <td>0.0</td>\n",
       "      <td>0.0</td>\n",
       "      <td>0.0</td>\n",
       "      <td>0.0</td>\n",
       "      <td>1.0</td>\n",
       "    </tr>\n",
       "    <tr>\n",
       "      <th>4</th>\n",
       "      <td>0.175347</td>\n",
       "      <td>0.8</td>\n",
       "      <td>0.875</td>\n",
       "      <td>1.0</td>\n",
       "      <td>0.875</td>\n",
       "      <td>0.875</td>\n",
       "      <td>0.755556</td>\n",
       "      <td>0.211299</td>\n",
       "      <td>0.209332</td>\n",
       "      <td>0.288806</td>\n",
       "      <td>...</td>\n",
       "      <td>0.0</td>\n",
       "      <td>0.0</td>\n",
       "      <td>0.0</td>\n",
       "      <td>0.0</td>\n",
       "      <td>0.0</td>\n",
       "      <td>0.0</td>\n",
       "      <td>0.0</td>\n",
       "      <td>0.0</td>\n",
       "      <td>0.0</td>\n",
       "      <td>1.0</td>\n",
       "    </tr>\n",
       "  </tbody>\n",
       "</table>\n",
       "<p>5 rows × 184 columns</p>\n",
       "</div>"
      ],
      "text/plain": [
       "        ABV  appearance  aroma  overall  palate  taste  userBias  word_count  \\\n",
       "0  0.092014         0.7  0.750      1.0   0.750  0.875  0.745000    0.135593   \n",
       "1  0.192708         0.8  1.000      1.0   1.000  1.000  0.766250    0.238418   \n",
       "2  0.111111         0.8  0.875      1.0   0.875  0.875  0.775000    0.114124   \n",
       "3  0.123264         0.8  0.875      1.0   0.750  0.875  0.711000    0.213559   \n",
       "4  0.175347         0.8  0.875      1.0   0.875  0.875  0.755556    0.211299   \n",
       "\n",
       "   char_count  avg_word_len        ...         Spain  Sri Lanka  Sweden  \\\n",
       "0    0.135916      0.312620        ...           0.0        0.0     0.0   \n",
       "1    0.232877      0.270866        ...           0.0        0.0     0.0   \n",
       "2    0.119221      0.425918        ...           0.0        0.0     0.0   \n",
       "3    0.221747      0.344344        ...           0.0        0.0     0.0   \n",
       "4    0.209332      0.288806        ...           0.0        0.0     0.0   \n",
       "\n",
       "   Switzerland  Taiwan, Province of China  Thailand  Togo  United Kingdom  \\\n",
       "0          0.0                        0.0       0.0   0.0             0.0   \n",
       "1          0.0                        0.0       0.0   0.0             0.0   \n",
       "2          0.0                        0.0       0.0   0.0             0.0   \n",
       "3          0.0                        0.0       0.0   0.0             0.0   \n",
       "4          0.0                        0.0       0.0   0.0             0.0   \n",
       "\n",
       "   United States  Location Unknown  \n",
       "0            0.0               0.0  \n",
       "1            0.0               1.0  \n",
       "2            0.0               1.0  \n",
       "3            0.0               1.0  \n",
       "4            0.0               1.0  \n",
       "\n",
       "[5 rows x 184 columns]"
      ]
     },
     "execution_count": 8,
     "metadata": {},
     "output_type": "execute_result"
    }
   ],
   "source": [
    "test.head()"
   ]
  },
  {
   "cell_type": "code",
   "execution_count": 33,
   "metadata": {},
   "outputs": [],
   "source": [
    "dependents = ['overall']#['taste','appearance','aroma','palate','overall']"
   ]
  },
  {
   "cell_type": "code",
   "execution_count": 31,
   "metadata": {},
   "outputs": [],
   "source": [
    "independents = []\n",
    "for x in list(test.columns):\n",
    "    if (x not in dependents):\n",
    "        independents.append(x)"
   ]
  },
  {
   "cell_type": "code",
   "execution_count": 32,
   "metadata": {},
   "outputs": [
    {
     "data": {
      "text/plain": [
       "179"
      ]
     },
     "execution_count": 32,
     "metadata": {},
     "output_type": "execute_result"
    }
   ],
   "source": [
    "len(independents)"
   ]
  },
  {
   "cell_type": "code",
   "execution_count": 16,
   "metadata": {},
   "outputs": [],
   "source": [
    "def makeXandY(data, dependentNames, independentName, intercept):\n",
    "    X = np.array(data[dependentNames])\n",
    "    if (intercept):\n",
    "        X = np.insert(X, 0, 1, axis=1)\n",
    "    y = np.array(data[independentName])\n",
    "    return X, y"
   ]
  },
  {
   "cell_type": "code",
   "execution_count": 34,
   "metadata": {},
   "outputs": [],
   "source": [
    "x, y = makeXandY(test, independents, dependents, False)"
   ]
  },
  {
   "cell_type": "code",
   "execution_count": 35,
   "metadata": {},
   "outputs": [
    {
     "data": {
      "text/plain": [
       "(37500, 179)"
      ]
     },
     "execution_count": 35,
     "metadata": {},
     "output_type": "execute_result"
    }
   ],
   "source": [
    "x.shape"
   ]
  },
  {
   "cell_type": "code",
   "execution_count": 36,
   "metadata": {},
   "outputs": [
    {
     "data": {
      "text/plain": [
       "(37500, 1)"
      ]
     },
     "execution_count": 36,
     "metadata": {},
     "output_type": "execute_result"
    }
   ],
   "source": [
    "y.shape"
   ]
  },
  {
   "cell_type": "code",
   "execution_count": 37,
   "metadata": {},
   "outputs": [],
   "source": [
    "randomize = np.random.choice([i for i in range(x.shape[0])], size=x.shape[0], replace=False)"
   ]
  },
  {
   "cell_type": "code",
   "execution_count": 38,
   "metadata": {},
   "outputs": [],
   "source": [
    "testX = x[randomize[:3750]]\n",
    "testY = y[randomize[:3750]]\n",
    "trainX = x[randomize[3750:]]\n",
    "trainY = y[randomize[3750:]]"
   ]
  },
  {
   "cell_type": "code",
   "execution_count": 39,
   "metadata": {},
   "outputs": [
    {
     "name": "stdout",
     "output_type": "stream",
     "text": [
      "Epoch#: 0\n",
      "Epoch#: 1\n",
      "Epoch#: 2\n",
      "Epoch#: 3\n",
      "Epoch#: 4\n",
      "Epoch#: 5\n",
      "Epoch#: 6\n",
      "Epoch#: 7\n",
      "Epoch#: 8\n",
      "Epoch#: 9\n",
      "Epoch#: 10\n",
      "Epoch#: 11\n",
      "Epoch#: 12\n",
      "Epoch#: 13\n",
      "Epoch#: 14\n",
      "Epoch#: 15\n",
      "Epoch#: 16\n",
      "Epoch#: 17\n",
      "Epoch#: 18\n",
      "Epoch#: 19\n"
     ]
    }
   ],
   "source": [
    "epochsMeanError = network.train_epochs_minibatch(trainX, trainY, epochs=20, mini_batch=100)"
   ]
  },
  {
   "cell_type": "code",
   "execution_count": 40,
   "metadata": {},
   "outputs": [],
   "source": [
    "# Predict to find error\n",
    "predict = network.predict(testX)"
   ]
  },
  {
   "cell_type": "code",
   "execution_count": 31,
   "metadata": {},
   "outputs": [],
   "source": [
    "diff = predict - testY"
   ]
  },
  {
   "cell_type": "code",
   "execution_count": 32,
   "metadata": {},
   "outputs": [],
   "source": [
    "squardDiff = np.multiply(diff,diff)"
   ]
  },
  {
   "cell_type": "code",
   "execution_count": 35,
   "metadata": {},
   "outputs": [],
   "source": [
    "mse = np.sum(squardDiff, axis = 0)/testY.shape[0]"
   ]
  },
  {
   "cell_type": "code",
   "execution_count": 36,
   "metadata": {},
   "outputs": [
    {
     "data": {
      "text/plain": [
       "matrix([[ 0.02006457,  0.00940888,  0.01782851,  0.01783685,  0.0133131 ]])"
      ]
     },
     "execution_count": 36,
     "metadata": {},
     "output_type": "execute_result"
    }
   ],
   "source": [
    "mse # Great but not standardized"
   ]
  },
  {
   "cell_type": "markdown",
   "metadata": {},
   "source": [
    "# Unstandardized predicted for each dependent"
   ]
  },
  {
   "cell_type": "code",
   "execution_count": 41,
   "metadata": {},
   "outputs": [],
   "source": [
    "unstandPredict = copy.deepcopy(predict)\n",
    "unstandPredict[:,0] = predict[:,0]*5+(-1e-08)\n",
    "unstandTestY = copy.deepcopy(testY)\n",
    "unstandTestY[:,0] = testY[:,0]*5+(-1e-08)"
   ]
  },
  {
   "cell_type": "code",
   "execution_count": 42,
   "metadata": {},
   "outputs": [
    {
     "name": "stdout",
     "output_type": "stream",
     "text": [
      "[[ 0.34713103]]\n"
     ]
    }
   ],
   "source": [
    "diff = unstandPredict - unstandTestY\n",
    "squardDiff = np.multiply(diff,diff)\n",
    "mse = np.sum(squardDiff, axis = 0)/unstandTestY.shape[0]\n",
    "print(mse)"
   ]
  },
  {
   "cell_type": "code",
   "execution_count": 43,
   "metadata": {},
   "outputs": [
    {
     "data": {
      "text/plain": [
       "matrix([[ 0.06381652]])"
      ]
     },
     "execution_count": 43,
     "metadata": {},
     "output_type": "execute_result"
    }
   ],
   "source": [
    "np.var(unstandPredict, axis= 0)"
   ]
  },
  {
   "cell_type": "markdown",
   "metadata": {},
   "source": [
    "# Unstandardized predicted for all dependents"
   ]
  },
  {
   "cell_type": "code",
   "execution_count": 37,
   "metadata": {},
   "outputs": [],
   "source": [
    "nonRegData = pd.read_csv('train_not_reg.csv')"
   ]
  },
  {
   "cell_type": "code",
   "execution_count": 38,
   "metadata": {},
   "outputs": [
    {
     "data": {
      "text/html": [
       "<div>\n",
       "<style scoped>\n",
       "    .dataframe tbody tr th:only-of-type {\n",
       "        vertical-align: middle;\n",
       "    }\n",
       "\n",
       "    .dataframe tbody tr th {\n",
       "        vertical-align: top;\n",
       "    }\n",
       "\n",
       "    .dataframe thead th {\n",
       "        text-align: right;\n",
       "    }\n",
       "</style>\n",
       "<table border=\"1\" class=\"dataframe\">\n",
       "  <thead>\n",
       "    <tr style=\"text-align: right;\">\n",
       "      <th></th>\n",
       "      <th>ABV</th>\n",
       "      <th>appearance</th>\n",
       "      <th>aroma</th>\n",
       "      <th>overall</th>\n",
       "      <th>palate</th>\n",
       "      <th>taste</th>\n",
       "      <th>userBias</th>\n",
       "      <th>word_count</th>\n",
       "      <th>char_count</th>\n",
       "      <th>avg_word_len</th>\n",
       "      <th>...</th>\n",
       "      <th>Spain</th>\n",
       "      <th>Sri Lanka</th>\n",
       "      <th>Sweden</th>\n",
       "      <th>Switzerland</th>\n",
       "      <th>Taiwan, Province of China</th>\n",
       "      <th>Thailand</th>\n",
       "      <th>Togo</th>\n",
       "      <th>United Kingdom</th>\n",
       "      <th>United States</th>\n",
       "      <th>Location Unknown</th>\n",
       "    </tr>\n",
       "  </thead>\n",
       "  <tbody>\n",
       "    <tr>\n",
       "      <th>0</th>\n",
       "      <td>5.4</td>\n",
       "      <td>3.5</td>\n",
       "      <td>4.0</td>\n",
       "      <td>5.0</td>\n",
       "      <td>4.0</td>\n",
       "      <td>4.5</td>\n",
       "      <td>0.459960</td>\n",
       "      <td>121</td>\n",
       "      <td>684.0</td>\n",
       "      <td>4.432000</td>\n",
       "      <td>...</td>\n",
       "      <td>0.0</td>\n",
       "      <td>0.0</td>\n",
       "      <td>0.0</td>\n",
       "      <td>0.0</td>\n",
       "      <td>0.0</td>\n",
       "      <td>0.0</td>\n",
       "      <td>0.0</td>\n",
       "      <td>0.0</td>\n",
       "      <td>0.0</td>\n",
       "      <td>0.0</td>\n",
       "    </tr>\n",
       "    <tr>\n",
       "      <th>1</th>\n",
       "      <td>11.2</td>\n",
       "      <td>4.0</td>\n",
       "      <td>5.0</td>\n",
       "      <td>5.0</td>\n",
       "      <td>5.0</td>\n",
       "      <td>5.0</td>\n",
       "      <td>0.884960</td>\n",
       "      <td>212</td>\n",
       "      <td>1137.0</td>\n",
       "      <td>4.240741</td>\n",
       "      <td>...</td>\n",
       "      <td>0.0</td>\n",
       "      <td>0.0</td>\n",
       "      <td>0.0</td>\n",
       "      <td>0.0</td>\n",
       "      <td>0.0</td>\n",
       "      <td>0.0</td>\n",
       "      <td>0.0</td>\n",
       "      <td>0.0</td>\n",
       "      <td>0.0</td>\n",
       "      <td>1.0</td>\n",
       "    </tr>\n",
       "    <tr>\n",
       "      <th>2</th>\n",
       "      <td>6.5</td>\n",
       "      <td>4.0</td>\n",
       "      <td>4.5</td>\n",
       "      <td>5.0</td>\n",
       "      <td>4.5</td>\n",
       "      <td>4.5</td>\n",
       "      <td>1.059960</td>\n",
       "      <td>102</td>\n",
       "      <td>606.0</td>\n",
       "      <td>4.950980</td>\n",
       "      <td>...</td>\n",
       "      <td>0.0</td>\n",
       "      <td>0.0</td>\n",
       "      <td>0.0</td>\n",
       "      <td>0.0</td>\n",
       "      <td>0.0</td>\n",
       "      <td>0.0</td>\n",
       "      <td>0.0</td>\n",
       "      <td>0.0</td>\n",
       "      <td>0.0</td>\n",
       "      <td>1.0</td>\n",
       "    </tr>\n",
       "    <tr>\n",
       "      <th>3</th>\n",
       "      <td>7.2</td>\n",
       "      <td>4.0</td>\n",
       "      <td>4.5</td>\n",
       "      <td>5.0</td>\n",
       "      <td>4.0</td>\n",
       "      <td>4.5</td>\n",
       "      <td>-0.220040</td>\n",
       "      <td>190</td>\n",
       "      <td>1085.0</td>\n",
       "      <td>4.577320</td>\n",
       "      <td>...</td>\n",
       "      <td>0.0</td>\n",
       "      <td>0.0</td>\n",
       "      <td>0.0</td>\n",
       "      <td>0.0</td>\n",
       "      <td>0.0</td>\n",
       "      <td>0.0</td>\n",
       "      <td>0.0</td>\n",
       "      <td>0.0</td>\n",
       "      <td>0.0</td>\n",
       "      <td>1.0</td>\n",
       "    </tr>\n",
       "    <tr>\n",
       "      <th>4</th>\n",
       "      <td>10.2</td>\n",
       "      <td>4.0</td>\n",
       "      <td>4.5</td>\n",
       "      <td>5.0</td>\n",
       "      <td>4.5</td>\n",
       "      <td>4.5</td>\n",
       "      <td>0.671071</td>\n",
       "      <td>188</td>\n",
       "      <td>1027.0</td>\n",
       "      <td>4.322917</td>\n",
       "      <td>...</td>\n",
       "      <td>0.0</td>\n",
       "      <td>0.0</td>\n",
       "      <td>0.0</td>\n",
       "      <td>0.0</td>\n",
       "      <td>0.0</td>\n",
       "      <td>0.0</td>\n",
       "      <td>0.0</td>\n",
       "      <td>0.0</td>\n",
       "      <td>0.0</td>\n",
       "      <td>1.0</td>\n",
       "    </tr>\n",
       "  </tbody>\n",
       "</table>\n",
       "<p>5 rows × 184 columns</p>\n",
       "</div>"
      ],
      "text/plain": [
       "    ABV  appearance  aroma  overall  palate  taste  userBias  word_count  \\\n",
       "0   5.4         3.5    4.0      5.0     4.0    4.5  0.459960         121   \n",
       "1  11.2         4.0    5.0      5.0     5.0    5.0  0.884960         212   \n",
       "2   6.5         4.0    4.5      5.0     4.5    4.5  1.059960         102   \n",
       "3   7.2         4.0    4.5      5.0     4.0    4.5 -0.220040         190   \n",
       "4  10.2         4.0    4.5      5.0     4.5    4.5  0.671071         188   \n",
       "\n",
       "   char_count  avg_word_len        ...         Spain  Sri Lanka  Sweden  \\\n",
       "0       684.0      4.432000        ...           0.0        0.0     0.0   \n",
       "1      1137.0      4.240741        ...           0.0        0.0     0.0   \n",
       "2       606.0      4.950980        ...           0.0        0.0     0.0   \n",
       "3      1085.0      4.577320        ...           0.0        0.0     0.0   \n",
       "4      1027.0      4.322917        ...           0.0        0.0     0.0   \n",
       "\n",
       "   Switzerland  Taiwan, Province of China  Thailand  Togo  United Kingdom  \\\n",
       "0          0.0                        0.0       0.0   0.0             0.0   \n",
       "1          0.0                        0.0       0.0   0.0             0.0   \n",
       "2          0.0                        0.0       0.0   0.0             0.0   \n",
       "3          0.0                        0.0       0.0   0.0             0.0   \n",
       "4          0.0                        0.0       0.0   0.0             0.0   \n",
       "\n",
       "   United States  Location Unknown  \n",
       "0            0.0               0.0  \n",
       "1            0.0               1.0  \n",
       "2            0.0               1.0  \n",
       "3            0.0               1.0  \n",
       "4            0.0               1.0  \n",
       "\n",
       "[5 rows x 184 columns]"
      ]
     },
     "execution_count": 38,
     "metadata": {},
     "output_type": "execute_result"
    }
   ],
   "source": [
    "nonRegData.head()"
   ]
  },
  {
   "cell_type": "code",
   "execution_count": 40,
   "metadata": {},
   "outputs": [
    {
     "name": "stdout",
     "output_type": "stream",
     "text": [
      "taste\n",
      "multiply 4.0\n",
      "add 0.99999999\n",
      "appearance\n",
      "multiply 5.0\n",
      "add -1e-08\n",
      "aroma\n",
      "multiply 4.0\n",
      "add 0.99999999\n",
      "palate\n",
      "multiply 4.0\n",
      "add 0.99999999\n",
      "overall\n",
      "multiply 5.0\n",
      "add -1e-08\n"
     ]
    }
   ],
   "source": [
    "# Formula used to standardize\n",
    "# minimum = train[col].min()\n",
    "# maximum = train[col].max()\n",
    "# train[col] = (train[col]-(minimum-.00000001)) / (maximum-minimum)\n",
    "# dependents = ['taste','appearance','aroma','palate','overall']\n",
    "for dep in dependents:\n",
    "    print(dep)\n",
    "    minDep = nonRegData[dep].min()\n",
    "    maxDep = nonRegData[dep].max()\n",
    "    print('multiply',(maxDep-minDep))\n",
    "    print('add', minDep-.00000001)\n",
    "    "
   ]
  },
  {
   "cell_type": "code",
   "execution_count": 60,
   "metadata": {},
   "outputs": [
    {
     "data": {
      "text/plain": [
       "matrix([[ 0.75892335,  0.79785564,  0.75117496,  0.74622054,  0.79041425],\n",
       "        [ 0.82727774,  0.84774871,  0.81565502,  0.80789164,  0.860271  ],\n",
       "        [ 0.70340177,  0.7539783 ,  0.68781594,  0.69721566,  0.74261862],\n",
       "        ..., \n",
       "        [ 0.87886278,  0.8743032 ,  0.86785127,  0.8516397 ,  0.88950593],\n",
       "        [ 0.7931613 ,  0.80482041,  0.77662379,  0.77152569,  0.82538341],\n",
       "        [ 0.70215509,  0.77150605,  0.69863589,  0.68523435,  0.7721432 ]])"
      ]
     },
     "execution_count": 60,
     "metadata": {},
     "output_type": "execute_result"
    }
   ],
   "source": [
    "predict"
   ]
  },
  {
   "cell_type": "markdown",
   "metadata": {},
   "source": [
    "# Neural Network with all dependents results:"
   ]
  },
  {
   "cell_type": "code",
   "execution_count": 61,
   "metadata": {},
   "outputs": [],
   "source": [
    "unstandPredict = copy.deepcopy(predict)\n",
    "unstandPredict[:,0] = predict[:,0]*4+0.99999999\n",
    "unstandPredict[:,1] = predict[:,1]*5+(-1e-08)\n",
    "unstandPredict[:,2] = predict[:,2]*4+0.99999999\n",
    "unstandPredict[:,3] = predict[:,3]*4+0.99999999\n",
    "unstandPredict[:,4] = predict[:,4]*5+-1e-08"
   ]
  },
  {
   "cell_type": "code",
   "execution_count": 65,
   "metadata": {},
   "outputs": [
    {
     "data": {
      "text/plain": [
       "matrix([[ 0.09117546,  0.06986612,  0.10521375,  0.09441194,  0.09628214]])"
      ]
     },
     "execution_count": 65,
     "metadata": {},
     "output_type": "execute_result"
    }
   ],
   "source": [
    "np.var(unstandPredict, axis= 0)"
   ]
  },
  {
   "cell_type": "code",
   "execution_count": 62,
   "metadata": {},
   "outputs": [],
   "source": [
    "unstandTestY = copy.deepcopy(testY)\n",
    "unstandTestY[:,0] = testY[:,0]*4+0.99999999\n",
    "unstandTestY[:,1] = testY[:,1]*5+(-1e-08)\n",
    "unstandTestY[:,2] = testY[:,2]*4+0.99999999\n",
    "unstandTestY[:,3] = testY[:,3]*4+0.99999999\n",
    "unstandTestY[:,4] = testY[:,4]*5+-1e-08"
   ]
  },
  {
   "cell_type": "code",
   "execution_count": 64,
   "metadata": {},
   "outputs": [
    {
     "name": "stdout",
     "output_type": "stream",
     "text": [
      "[[ 0.32103305  0.23522205  0.28525619  0.28538954  0.33282746]]\n"
     ]
    }
   ],
   "source": [
    "diff = unstandPredict - unstandTestY\n",
    "squardDiff = np.multiply(diff,diff)\n",
    "mse = np.sum(squardDiff, axis = 0)/unstandTestY.shape[0]\n",
    "print(mse)"
   ]
  },
  {
   "cell_type": "markdown",
   "metadata": {},
   "source": [
    "# Plot learning rates"
   ]
  },
  {
   "cell_type": "code",
   "execution_count": 140,
   "metadata": {},
   "outputs": [],
   "source": [
    "import matplotlib.pyplot as plt\n",
    "%matplotlib inline"
   ]
  },
  {
   "cell_type": "code",
   "execution_count": 199,
   "metadata": {},
   "outputs": [],
   "source": [
    "xs = np.arange(20)"
   ]
  },
  {
   "cell_type": "code",
   "execution_count": 201,
   "metadata": {},
   "outputs": [
    {
     "data": {
      "text/plain": [
       "Text(0.5,1,'NN One Dependent: taste')"
      ]
     },
     "execution_count": 201,
     "metadata": {},
     "output_type": "execute_result"
    },
    {
     "data": {
      "image/png": "[encoded data removed]",
      "text/plain": [
       "<Figure size 432x288 with 1 Axes>"
      ]
     },
     "metadata": {},
     "output_type": "display_data"
    }
   ],
   "source": [
    "plt.plot(xs,epochsMeanError)\n",
    "plt.xlabel('Epoch')\n",
    "plt.ylabel('Mean Error')\n",
    "plt.title(\"NN One Dependent: taste\")"
   ]
  },
  {
   "cell_type": "code",
   "execution_count": 35,
   "metadata": {},
   "outputs": [
    {
     "data": {
      "text/plain": [
       "Text(0.5,1,'Squared Error Loss Function')"
      ]
     },
     "execution_count": 35,
     "metadata": {},
     "output_type": "execute_result"
    },
    {
     "data": {
      "image/png": "[encoded data removed]",
      "text/plain": [
       "<Figure size 432x288 with 1 Axes>"
      ]
     },
     "metadata": {},
     "output_type": "display_data"
    }
   ],
   "source": [
    "plt.plot(xs,epochsMeanError)\n",
    "plt.xlabel('Epoch')\n",
    "plt.ylabel('Mean Error')\n",
    "plt.title(\"Squared Error Loss Function\")"
   ]
  },
  {
   "cell_type": "code",
   "execution_count": 202,
   "metadata": {},
   "outputs": [],
   "source": [
    "sumMSE = 0.015206818375849451 + 0.018871498462694727 + 0.037666860687320523 + 0.022874488092096194 + 0.015563367413306953"
   ]
  },
  {
   "cell_type": "code",
   "execution_count": 203,
   "metadata": {},
   "outputs": [
    {
     "data": {
      "text/plain": [
       "0.02203660660625357"
      ]
     },
     "execution_count": 203,
     "metadata": {},
     "output_type": "execute_result"
    }
   ],
   "source": [
    "sumMSE / 5"
   ]
  },
  {
   "cell_type": "code",
   "execution_count": null,
   "metadata": {},
   "outputs": [],
   "source": []
  }
 ],
 "metadata": {
  "kernelspec": {
   "display_name": "Python 3",
   "language": "python",
   "name": "python3"
  },
  "language_info": {
   "codemirror_mode": {
    "name": "ipython",
    "version": 3
   },
   "file_extension": ".py",
   "mimetype": "text/x-python",
   "name": "python",
   "nbconvert_exporter": "python",
   "pygments_lexer": "ipython3",
   "version": "3.6.5"
  }
 },
 "nbformat": 4,
 "nbformat_minor": 2
}
