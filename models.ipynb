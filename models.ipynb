{
 "cells": [
  {
   "cell_type": "code",
   "execution_count": 197,
   "metadata": {},
   "outputs": [],
   "source": [
    "from sklearn.linear_model import LassoCV\n",
    "from sklearn import linear_model\n",
    "import pandas as pd\n",
    "import numpy as np"
   ]
  },
  {
   "cell_type": "code",
   "execution_count": 198,
   "metadata": {},
   "outputs": [],
   "source": [
    "full = pd.read_csv(\"train.csv\")"
   ]
  },
  {
   "cell_type": "code",
   "execution_count": 199,
   "metadata": {},
   "outputs": [
    {
     "data": {
      "text/html": [
       "<div>\n",
       "<style scoped>\n",
       "    .dataframe tbody tr th:only-of-type {\n",
       "        vertical-align: middle;\n",
       "    }\n",
       "\n",
       "    .dataframe tbody tr th {\n",
       "        vertical-align: top;\n",
       "    }\n",
       "\n",
       "    .dataframe thead th {\n",
       "        text-align: right;\n",
       "    }\n",
       "</style>\n",
       "<table border=\"1\" class=\"dataframe\">\n",
       "  <thead>\n",
       "    <tr style=\"text-align: right;\">\n",
       "      <th></th>\n",
       "      <th>ABV</th>\n",
       "      <th>appearance</th>\n",
       "      <th>aroma</th>\n",
       "      <th>overall</th>\n",
       "      <th>palate</th>\n",
       "      <th>taste</th>\n",
       "      <th>text</th>\n",
       "      <th>userBias</th>\n",
       "      <th>word_count</th>\n",
       "      <th>char_count</th>\n",
       "      <th>...</th>\n",
       "      <th>Slovakia</th>\n",
       "      <th>Spain</th>\n",
       "      <th>Sri Lanka</th>\n",
       "      <th>Sweden</th>\n",
       "      <th>Switzerland</th>\n",
       "      <th>Taiwan, Province of China</th>\n",
       "      <th>Thailand</th>\n",
       "      <th>Togo</th>\n",
       "      <th>United Kingdom</th>\n",
       "      <th>United States</th>\n",
       "    </tr>\n",
       "  </thead>\n",
       "  <tbody>\n",
       "    <tr>\n",
       "      <th>0</th>\n",
       "      <td>0.092014</td>\n",
       "      <td>0.7</td>\n",
       "      <td>0.750</td>\n",
       "      <td>1.0</td>\n",
       "      <td>0.750</td>\n",
       "      <td>0.875</td>\n",
       "      <td>tap pick bottl enjoy breakfast egg bacon toast...</td>\n",
       "      <td>0.745000</td>\n",
       "      <td>0.135593</td>\n",
       "      <td>0.135916</td>\n",
       "      <td>...</td>\n",
       "      <td>0.0</td>\n",
       "      <td>0.0</td>\n",
       "      <td>0.0</td>\n",
       "      <td>0.0</td>\n",
       "      <td>0.0</td>\n",
       "      <td>0.0</td>\n",
       "      <td>0.0</td>\n",
       "      <td>0.0</td>\n",
       "      <td>0.0</td>\n",
       "      <td>0.0</td>\n",
       "    </tr>\n",
       "    <tr>\n",
       "      <th>1</th>\n",
       "      <td>0.192708</td>\n",
       "      <td>0.8</td>\n",
       "      <td>1.000</td>\n",
       "      <td>1.0</td>\n",
       "      <td>1.000</td>\n",
       "      <td>1.000</td>\n",
       "      <td>serv type bottl appear black night look like o...</td>\n",
       "      <td>0.766250</td>\n",
       "      <td>0.238418</td>\n",
       "      <td>0.232877</td>\n",
       "      <td>...</td>\n",
       "      <td>NaN</td>\n",
       "      <td>NaN</td>\n",
       "      <td>NaN</td>\n",
       "      <td>NaN</td>\n",
       "      <td>NaN</td>\n",
       "      <td>NaN</td>\n",
       "      <td>NaN</td>\n",
       "      <td>NaN</td>\n",
       "      <td>NaN</td>\n",
       "      <td>NaN</td>\n",
       "    </tr>\n",
       "    <tr>\n",
       "      <th>2</th>\n",
       "      <td>0.111111</td>\n",
       "      <td>0.8</td>\n",
       "      <td>0.875</td>\n",
       "      <td>1.0</td>\n",
       "      <td>0.875</td>\n",
       "      <td>0.875</td>\n",
       "      <td>purchas oak tree buy rite plainfield nj pint g...</td>\n",
       "      <td>0.775000</td>\n",
       "      <td>0.114124</td>\n",
       "      <td>0.119221</td>\n",
       "      <td>...</td>\n",
       "      <td>NaN</td>\n",
       "      <td>NaN</td>\n",
       "      <td>NaN</td>\n",
       "      <td>NaN</td>\n",
       "      <td>NaN</td>\n",
       "      <td>NaN</td>\n",
       "      <td>NaN</td>\n",
       "      <td>NaN</td>\n",
       "      <td>NaN</td>\n",
       "      <td>NaN</td>\n",
       "    </tr>\n",
       "    <tr>\n",
       "      <th>3</th>\n",
       "      <td>0.123264</td>\n",
       "      <td>0.8</td>\n",
       "      <td>0.875</td>\n",
       "      <td>1.0</td>\n",
       "      <td>0.750</td>\n",
       "      <td>0.875</td>\n",
       "      <td>orang dirti russet hue 2 finger fluffi head re...</td>\n",
       "      <td>0.711000</td>\n",
       "      <td>0.213559</td>\n",
       "      <td>0.221747</td>\n",
       "      <td>...</td>\n",
       "      <td>NaN</td>\n",
       "      <td>NaN</td>\n",
       "      <td>NaN</td>\n",
       "      <td>NaN</td>\n",
       "      <td>NaN</td>\n",
       "      <td>NaN</td>\n",
       "      <td>NaN</td>\n",
       "      <td>NaN</td>\n",
       "      <td>NaN</td>\n",
       "      <td>NaN</td>\n",
       "    </tr>\n",
       "    <tr>\n",
       "      <th>4</th>\n",
       "      <td>0.175347</td>\n",
       "      <td>0.8</td>\n",
       "      <td>0.875</td>\n",
       "      <td>1.0</td>\n",
       "      <td>0.875</td>\n",
       "      <td>0.875</td>\n",
       "      <td>2009 12 oz bottl pour brownish red surpris amo...</td>\n",
       "      <td>0.755556</td>\n",
       "      <td>0.211299</td>\n",
       "      <td>0.209332</td>\n",
       "      <td>...</td>\n",
       "      <td>NaN</td>\n",
       "      <td>NaN</td>\n",
       "      <td>NaN</td>\n",
       "      <td>NaN</td>\n",
       "      <td>NaN</td>\n",
       "      <td>NaN</td>\n",
       "      <td>NaN</td>\n",
       "      <td>NaN</td>\n",
       "      <td>NaN</td>\n",
       "      <td>NaN</td>\n",
       "    </tr>\n",
       "  </tbody>\n",
       "</table>\n",
       "<p>5 rows × 187 columns</p>\n",
       "</div>"
      ],
      "text/plain": [
       "        ABV  appearance  aroma  overall  palate  taste  \\\n",
       "0  0.092014         0.7  0.750      1.0   0.750  0.875   \n",
       "1  0.192708         0.8  1.000      1.0   1.000  1.000   \n",
       "2  0.111111         0.8  0.875      1.0   0.875  0.875   \n",
       "3  0.123264         0.8  0.875      1.0   0.750  0.875   \n",
       "4  0.175347         0.8  0.875      1.0   0.875  0.875   \n",
       "\n",
       "                                                text  userBias  word_count  \\\n",
       "0  tap pick bottl enjoy breakfast egg bacon toast...  0.745000    0.135593   \n",
       "1  serv type bottl appear black night look like o...  0.766250    0.238418   \n",
       "2  purchas oak tree buy rite plainfield nj pint g...  0.775000    0.114124   \n",
       "3  orang dirti russet hue 2 finger fluffi head re...  0.711000    0.213559   \n",
       "4  2009 12 oz bottl pour brownish red surpris amo...  0.755556    0.211299   \n",
       "\n",
       "   char_count      ...        Slovakia  Spain  Sri Lanka  Sweden  Switzerland  \\\n",
       "0    0.135916      ...             0.0    0.0        0.0     0.0          0.0   \n",
       "1    0.232877      ...             NaN    NaN        NaN     NaN          NaN   \n",
       "2    0.119221      ...             NaN    NaN        NaN     NaN          NaN   \n",
       "3    0.221747      ...             NaN    NaN        NaN     NaN          NaN   \n",
       "4    0.209332      ...             NaN    NaN        NaN     NaN          NaN   \n",
       "\n",
       "   Taiwan, Province of China  Thailand  Togo  United Kingdom  United States  \n",
       "0                        0.0       0.0   0.0             0.0            0.0  \n",
       "1                        NaN       NaN   NaN             NaN            NaN  \n",
       "2                        NaN       NaN   NaN             NaN            NaN  \n",
       "3                        NaN       NaN   NaN             NaN            NaN  \n",
       "4                        NaN       NaN   NaN             NaN            NaN  \n",
       "\n",
       "[5 rows x 187 columns]"
      ]
     },
     "execution_count": 199,
     "metadata": {},
     "output_type": "execute_result"
    }
   ],
   "source": [
    "full.head()"
   ]
  },
  {
   "cell_type": "code",
   "execution_count": 229,
   "metadata": {},
   "outputs": [
    {
     "data": {
      "text/html": [
       "<div>\n",
       "<style scoped>\n",
       "    .dataframe tbody tr th:only-of-type {\n",
       "        vertical-align: middle;\n",
       "    }\n",
       "\n",
       "    .dataframe tbody tr th {\n",
       "        vertical-align: top;\n",
       "    }\n",
       "\n",
       "    .dataframe thead th {\n",
       "        text-align: right;\n",
       "    }\n",
       "</style>\n",
       "<table border=\"1\" class=\"dataframe\">\n",
       "  <thead>\n",
       "    <tr style=\"text-align: right;\">\n",
       "      <th></th>\n",
       "      <th>ABV</th>\n",
       "      <th>appearance</th>\n",
       "      <th>aroma</th>\n",
       "      <th>overall</th>\n",
       "      <th>palate</th>\n",
       "      <th>taste</th>\n",
       "      <th>userBias</th>\n",
       "      <th>word_count</th>\n",
       "      <th>char_count</th>\n",
       "      <th>avg_word_len</th>\n",
       "      <th>...</th>\n",
       "      <th>Slovakia</th>\n",
       "      <th>Spain</th>\n",
       "      <th>Sri Lanka</th>\n",
       "      <th>Sweden</th>\n",
       "      <th>Switzerland</th>\n",
       "      <th>Taiwan, Province of China</th>\n",
       "      <th>Thailand</th>\n",
       "      <th>Togo</th>\n",
       "      <th>United Kingdom</th>\n",
       "      <th>United States</th>\n",
       "    </tr>\n",
       "  </thead>\n",
       "  <tbody>\n",
       "    <tr>\n",
       "      <th>0</th>\n",
       "      <td>0.092014</td>\n",
       "      <td>0.7</td>\n",
       "      <td>0.750</td>\n",
       "      <td>1.0</td>\n",
       "      <td>0.750</td>\n",
       "      <td>0.875</td>\n",
       "      <td>0.745000</td>\n",
       "      <td>0.135593</td>\n",
       "      <td>0.135916</td>\n",
       "      <td>0.312620</td>\n",
       "      <td>...</td>\n",
       "      <td>0.0</td>\n",
       "      <td>0.0</td>\n",
       "      <td>0.0</td>\n",
       "      <td>0.0</td>\n",
       "      <td>0.0</td>\n",
       "      <td>0.0</td>\n",
       "      <td>0.0</td>\n",
       "      <td>0.0</td>\n",
       "      <td>0.0</td>\n",
       "      <td>0.0</td>\n",
       "    </tr>\n",
       "    <tr>\n",
       "      <th>1</th>\n",
       "      <td>0.192708</td>\n",
       "      <td>0.8</td>\n",
       "      <td>1.000</td>\n",
       "      <td>1.0</td>\n",
       "      <td>1.000</td>\n",
       "      <td>1.000</td>\n",
       "      <td>0.766250</td>\n",
       "      <td>0.238418</td>\n",
       "      <td>0.232877</td>\n",
       "      <td>0.270866</td>\n",
       "      <td>...</td>\n",
       "      <td>0.0</td>\n",
       "      <td>0.0</td>\n",
       "      <td>0.0</td>\n",
       "      <td>0.0</td>\n",
       "      <td>0.0</td>\n",
       "      <td>0.0</td>\n",
       "      <td>0.0</td>\n",
       "      <td>0.0</td>\n",
       "      <td>0.0</td>\n",
       "      <td>0.0</td>\n",
       "    </tr>\n",
       "    <tr>\n",
       "      <th>2</th>\n",
       "      <td>0.111111</td>\n",
       "      <td>0.8</td>\n",
       "      <td>0.875</td>\n",
       "      <td>1.0</td>\n",
       "      <td>0.875</td>\n",
       "      <td>0.875</td>\n",
       "      <td>0.775000</td>\n",
       "      <td>0.114124</td>\n",
       "      <td>0.119221</td>\n",
       "      <td>0.425918</td>\n",
       "      <td>...</td>\n",
       "      <td>0.0</td>\n",
       "      <td>0.0</td>\n",
       "      <td>0.0</td>\n",
       "      <td>0.0</td>\n",
       "      <td>0.0</td>\n",
       "      <td>0.0</td>\n",
       "      <td>0.0</td>\n",
       "      <td>0.0</td>\n",
       "      <td>0.0</td>\n",
       "      <td>0.0</td>\n",
       "    </tr>\n",
       "    <tr>\n",
       "      <th>3</th>\n",
       "      <td>0.123264</td>\n",
       "      <td>0.8</td>\n",
       "      <td>0.875</td>\n",
       "      <td>1.0</td>\n",
       "      <td>0.750</td>\n",
       "      <td>0.875</td>\n",
       "      <td>0.711000</td>\n",
       "      <td>0.213559</td>\n",
       "      <td>0.221747</td>\n",
       "      <td>0.344344</td>\n",
       "      <td>...</td>\n",
       "      <td>0.0</td>\n",
       "      <td>0.0</td>\n",
       "      <td>0.0</td>\n",
       "      <td>0.0</td>\n",
       "      <td>0.0</td>\n",
       "      <td>0.0</td>\n",
       "      <td>0.0</td>\n",
       "      <td>0.0</td>\n",
       "      <td>0.0</td>\n",
       "      <td>0.0</td>\n",
       "    </tr>\n",
       "    <tr>\n",
       "      <th>4</th>\n",
       "      <td>0.175347</td>\n",
       "      <td>0.8</td>\n",
       "      <td>0.875</td>\n",
       "      <td>1.0</td>\n",
       "      <td>0.875</td>\n",
       "      <td>0.875</td>\n",
       "      <td>0.755556</td>\n",
       "      <td>0.211299</td>\n",
       "      <td>0.209332</td>\n",
       "      <td>0.288806</td>\n",
       "      <td>...</td>\n",
       "      <td>0.0</td>\n",
       "      <td>0.0</td>\n",
       "      <td>0.0</td>\n",
       "      <td>0.0</td>\n",
       "      <td>0.0</td>\n",
       "      <td>0.0</td>\n",
       "      <td>0.0</td>\n",
       "      <td>0.0</td>\n",
       "      <td>0.0</td>\n",
       "      <td>0.0</td>\n",
       "    </tr>\n",
       "  </tbody>\n",
       "</table>\n",
       "<p>5 rows × 185 columns</p>\n",
       "</div>"
      ],
      "text/plain": [
       "        ABV  appearance  aroma  overall  palate  taste  userBias  word_count  \\\n",
       "0  0.092014         0.7  0.750      1.0   0.750  0.875  0.745000    0.135593   \n",
       "1  0.192708         0.8  1.000      1.0   1.000  1.000  0.766250    0.238418   \n",
       "2  0.111111         0.8  0.875      1.0   0.875  0.875  0.775000    0.114124   \n",
       "3  0.123264         0.8  0.875      1.0   0.750  0.875  0.711000    0.213559   \n",
       "4  0.175347         0.8  0.875      1.0   0.875  0.875  0.755556    0.211299   \n",
       "\n",
       "   char_count  avg_word_len      ...        Slovakia  Spain  Sri Lanka  \\\n",
       "0    0.135916      0.312620      ...             0.0    0.0        0.0   \n",
       "1    0.232877      0.270866      ...             0.0    0.0        0.0   \n",
       "2    0.119221      0.425918      ...             0.0    0.0        0.0   \n",
       "3    0.221747      0.344344      ...             0.0    0.0        0.0   \n",
       "4    0.209332      0.288806      ...             0.0    0.0        0.0   \n",
       "\n",
       "   Sweden  Switzerland  Taiwan, Province of China  Thailand  Togo  \\\n",
       "0     0.0          0.0                        0.0       0.0   0.0   \n",
       "1     0.0          0.0                        0.0       0.0   0.0   \n",
       "2     0.0          0.0                        0.0       0.0   0.0   \n",
       "3     0.0          0.0                        0.0       0.0   0.0   \n",
       "4     0.0          0.0                        0.0       0.0   0.0   \n",
       "\n",
       "   United Kingdom  United States  \n",
       "0             0.0            0.0  \n",
       "1             0.0            0.0  \n",
       "2             0.0            0.0  \n",
       "3             0.0            0.0  \n",
       "4             0.0            0.0  \n",
       "\n",
       "[5 rows x 185 columns]"
      ]
     },
     "execution_count": 229,
     "metadata": {},
     "output_type": "execute_result"
    }
   ],
   "source": [
    "data = full.select_dtypes(include=[np.number]).fillna(0)\n",
    "data.head()"
   ]
  },
  {
   "cell_type": "code",
   "execution_count": 231,
   "metadata": {},
   "outputs": [],
   "source": [
    "appearance = data\n",
    "appearance = appearance.drop(\"aroma\",axis=1)\n",
    "appearance = appearance.drop(\"overall\",axis=1)\n",
    "appearance = appearance.drop(\"palate\", axis = 1)\n",
    "appearance = appearance.drop(\"taste\", axis = 1)\n",
    "yval_appearance = data['appearance']"
   ]
  },
  {
   "cell_type": "code",
   "execution_count": 232,
   "metadata": {},
   "outputs": [],
   "source": [
    "aroma = data\n",
    "aroma = aroma.drop(\"appearance\",axis=1)\n",
    "aroma = aroma.drop(\"overall\",axis=1)\n",
    "aroma = aroma.drop(\"palate\", axis = 1)\n",
    "aroma = aroma.drop(\"taste\", axis = 1)\n",
    "yval_aroma = data['aroma']"
   ]
  },
  {
   "cell_type": "code",
   "execution_count": 233,
   "metadata": {},
   "outputs": [],
   "source": [
    "overall = data\n",
    "overall = overall.drop(\"appearance\",axis=1)\n",
    "overall = overall.drop(\"aroma\",axis=1)\n",
    "overall = overall.drop(\"palate\", axis = 1)\n",
    "overall = overall.drop(\"taste\", axis = 1)\n",
    "yval_overall = data['overall']"
   ]
  },
  {
   "cell_type": "code",
   "execution_count": 234,
   "metadata": {},
   "outputs": [],
   "source": [
    "palate = data\n",
    "palate = palate.drop(\"appearance\",axis=1)\n",
    "palate = palate.drop(\"aroma\",axis=1)\n",
    "palate = palate.drop(\"overall\", axis = 1)\n",
    "palate = palate.drop(\"taste\", axis = 1)\n",
    "yval_palate = data['palate']"
   ]
  },
  {
   "cell_type": "code",
   "execution_count": 235,
   "metadata": {},
   "outputs": [],
   "source": [
    "taste = data\n",
    "taste = taste.drop(\"appearance\",axis=1)\n",
    "taste = taste.drop(\"aroma\",axis=1)\n",
    "taste = taste.drop(\"overall\", axis = 1)\n",
    "taste = taste.drop(\"palate\", axis = 1)\n",
    "yval_taste = data['taste']"
   ]
  },
  {
   "cell_type": "code",
   "execution_count": 236,
   "metadata": {},
   "outputs": [],
   "source": [
    "setAlpha = np.full(len(list(appearance)), 0.03)\n",
    "\n",
    "def SSE(X, y, betaHat):\n",
    "    return np.sum((y-np.matmul(X, betaHat))**2)"
   ]
  },
  {
   "cell_type": "code",
   "execution_count": 237,
   "metadata": {},
   "outputs": [
    {
     "name": "stdout",
     "output_type": "stream",
     "text": [
      "0.622282669787\n"
     ]
    },
    {
     "data": {
      "text/plain": [
       "LassoCV(alphas=array([ 0.03,  0.03, ...,  0.03,  0.03]), copy_X=True, cv=25,\n",
       "    eps=0.001, fit_intercept=True, max_iter=10000, n_alphas=100,\n",
       "    n_jobs=None, normalize=False, positive=False, precompute='auto',\n",
       "    random_state=None, selection='cyclic', tol=0.0001, verbose=False)"
      ]
     },
     "execution_count": 237,
     "metadata": {},
     "output_type": "execute_result"
    }
   ],
   "source": [
    "reg_appearance = LassoCV(alphas = setAlpha, max_iter = 10000, cv = 25).fit(appearance, yval_appearance)\n",
    "appearanceSSE = SSE(appearance, yval_appearance, reg_appearance.coef_)/appearance.shape[0]\n",
    "print(appearanceSSE)\n",
    "reg_appearance"
   ]
  },
  {
   "cell_type": "code",
   "execution_count": 209,
   "metadata": {},
   "outputs": [
    {
     "name": "stdout",
     "output_type": "stream",
     "text": [
      "0.544942086925\n"
     ]
    }
   ],
   "source": [
    "reg_aroma = LassoCV(alphas = setAlpha, max_iter = 10000, cv = 25).fit(aroma, yval_aroma)\n",
    "aromaSSE = SSE(aroma, yval_aroma, reg_aroma.coef_)/aroma.shape[0]\n",
    "print(aromaSSE)"
   ]
  },
  {
   "cell_type": "code",
   "execution_count": 210,
   "metadata": {},
   "outputs": [
    {
     "name": "stdout",
     "output_type": "stream",
     "text": [
      "0.624734403112\n"
     ]
    }
   ],
   "source": [
    "reg_overall = LassoCV(alphas = setAlpha, max_iter = 10000, cv = 25).fit(overall, yval_overall)\n",
    "overallSSE = SSE(overall, yval_overall, reg_overall.coef_)/overall.shape[0]\n",
    "print(overallSSE)"
   ]
  },
  {
   "cell_type": "code",
   "execution_count": 211,
   "metadata": {},
   "outputs": [
    {
     "name": "stdout",
     "output_type": "stream",
     "text": [
      "0.537285420235\n"
     ]
    }
   ],
   "source": [
    "reg_palate = LassoCV(alphas = setAlpha, max_iter = 10000, cv = 25).fit(palate, yval_palate)\n",
    "palateSSE = SSE(palate, yval_palate, reg_palate.coef_)/palate.shape[0]\n",
    "print(palateSSE)"
   ]
  },
  {
   "cell_type": "code",
   "execution_count": 212,
   "metadata": {},
   "outputs": [
    {
     "name": "stdout",
     "output_type": "stream",
     "text": [
      "0.494711913114\n"
     ]
    }
   ],
   "source": [
    "reg_taste = LassoCV(alphas = setAlpha, max_iter = 10000, cv = 25).fit(taste, yval_taste)\n",
    "tasteSSE = SSE(taste, yval_taste, reg_taste.coef_)/taste.shape[0]\n",
    "print(tasteSSE)"
   ]
  },
  {
   "cell_type": "code",
   "execution_count": 213,
   "metadata": {},
   "outputs": [],
   "source": [
    "def find_zero_coef(startList, coef): \n",
    "    for i in range(len(coef)):\n",
    "        if coef[i] == 0:\n",
    "            startList.append(i)\n",
    "    "
   ]
  },
  {
   "cell_type": "code",
   "execution_count": 214,
   "metadata": {},
   "outputs": [],
   "source": [
    "dropListAppearance = []\n",
    "dropListAroma = []\n",
    "dropListOverall = []\n",
    "dropListPalate = []\n",
    "dropListTaste = []\n",
    "\n",
    "find_zero_coef(dropListAppearance, reg_appearance.coef_)\n",
    "find_zero_coef(dropListAroma, reg_aroma.coef_)\n",
    "find_zero_coef(dropListOverall, reg_overall.coef_)\n",
    "find_zero_coef(dropListPalate, reg_palate.coef_)\n",
    "find_zero_coef(dropListTaste, reg_taste.coef_)\n"
   ]
  },
  {
   "cell_type": "code",
   "execution_count": 215,
   "metadata": {},
   "outputs": [],
   "source": [
    "appearance = appearance.drop(appearance.columns[dropListAppearance], axis = 1)\n",
    "appearanceCoef = np.delete(reg_appearance.coef_, dropListAppearance)\n",
    "appearanceBIC = appearance.shape[0]*np.log(SSE(appearance, yval_appearance, appearanceCoef)/appearance.shape[0]) + appearance.shape[1]*np.log(appearance.shape[0])\n"
   ]
  },
  {
   "cell_type": "code",
   "execution_count": 216,
   "metadata": {},
   "outputs": [],
   "source": [
    "aroma = aroma.drop(aroma.columns[dropListAroma], axis = 1)\n",
    "aromaCoef = np.delete(reg_aroma.coef_, dropListAroma)\n",
    "aromaBIC = aroma.shape[0]*np.log(SSE(aroma, yval_aroma, aromaCoef)/aroma.shape[0]) + aroma.shape[1]*np.log(aroma.shape[0])\n"
   ]
  },
  {
   "cell_type": "code",
   "execution_count": 217,
   "metadata": {},
   "outputs": [],
   "source": [
    "overall = overall.drop(overall.columns[dropListOverall], axis = 1)\n",
    "overallCoef = np.delete(reg_overall.coef_, dropListOverall)\n",
    "overallBIC = overall.shape[0]*np.log(SSE(overall, yval_overall, overallCoef)/overall.shape[0]) + overall.shape[1]*np.log(overall.shape[0])\n"
   ]
  },
  {
   "cell_type": "code",
   "execution_count": 218,
   "metadata": {},
   "outputs": [],
   "source": [
    "palate = palate.drop(palate.columns[dropListPalate], axis = 1)\n",
    "palateCoef = np.delete(reg_palate.coef_, dropListPalate)\n",
    "palateBIC = palate.shape[0]*np.log(SSE(palate, yval_palate, palateCoef)/palate.shape[0]) + palate.shape[1]*np.log(palate.shape[0])\n"
   ]
  },
  {
   "cell_type": "code",
   "execution_count": 219,
   "metadata": {},
   "outputs": [],
   "source": [
    "taste = taste.drop(taste.columns[dropListTaste], axis = 1)\n",
    "tasteCoef = np.delete(reg_taste.coef_, dropListTaste)\n",
    "tasteBIC = taste.shape[0]*np.log(SSE(taste, yval_taste, tasteCoef)/taste.shape[0]) + taste.shape[1]*np.log(taste.shape[0])\n"
   ]
  },
  {
   "cell_type": "code",
   "execution_count": 220,
   "metadata": {},
   "outputs": [
    {
     "name": "stdout",
     "output_type": "stream",
     "text": [
      "-17788.5313666\n"
     ]
    }
   ],
   "source": [
    "print(appearanceBIC)"
   ]
  },
  {
   "cell_type": "code",
   "execution_count": 221,
   "metadata": {},
   "outputs": [
    {
     "name": "stdout",
     "output_type": "stream",
     "text": [
      "-22765.3407183\n"
     ]
    }
   ],
   "source": [
    "print(aromaBIC)"
   ]
  },
  {
   "cell_type": "code",
   "execution_count": 222,
   "metadata": {},
   "outputs": [
    {
     "name": "stdout",
     "output_type": "stream",
     "text": [
      "-17641.075297\n"
     ]
    }
   ],
   "source": [
    "print(overallBIC)"
   ]
  },
  {
   "cell_type": "code",
   "execution_count": 223,
   "metadata": {},
   "outputs": [
    {
     "name": "stdout",
     "output_type": "stream",
     "text": [
      "-23295.9681321\n"
     ]
    }
   ],
   "source": [
    "print(palateBIC)"
   ]
  },
  {
   "cell_type": "code",
   "execution_count": 224,
   "metadata": {},
   "outputs": [
    {
     "name": "stdout",
     "output_type": "stream",
     "text": [
      "-26381.2058868\n"
     ]
    }
   ],
   "source": [
    "print(tasteBIC)"
   ]
  },
  {
   "cell_type": "code",
   "execution_count": null,
   "metadata": {},
   "outputs": [],
   "source": []
  },
  {
   "cell_type": "code",
   "execution_count": null,
   "metadata": {},
   "outputs": [],
   "source": []
  },
  {
   "cell_type": "code",
   "execution_count": null,
   "metadata": {},
   "outputs": [],
   "source": []
  },
  {
   "cell_type": "code",
   "execution_count": null,
   "metadata": {},
   "outputs": [],
   "source": []
  }
 ],
 "metadata": {
  "kernelspec": {
   "display_name": "Python 3",
   "language": "python",
   "name": "python3"
  },
  "language_info": {
   "codemirror_mode": {
    "name": "ipython",
    "version": 3
   },
   "file_extension": ".py",
   "mimetype": "text/x-python",
   "name": "python",
   "nbconvert_exporter": "python",
   "pygments_lexer": "ipython3",
   "version": "3.6.5"
  }
 },
 "nbformat": 4,
 "nbformat_minor": 2
}
