{
 "cells": [
  {
   "cell_type": "code",
   "execution_count": 137,
   "metadata": {},
   "outputs": [],
   "source": [
    "from sklearn.linear_model import LassoCV\n",
    "from sklearn import linear_model\n",
    "import pandas as pd\n",
    "import numpy as np\n",
    "import seaborn as sns\n",
    "import sklearn.model_selection as cv\n",
    "from sklearn.metrics import mean_squared_error"
   ]
  },
  {
   "cell_type": "code",
   "execution_count": 147,
   "metadata": {},
   "outputs": [],
   "source": [
    "full = pd.read_csv(\"train.csv\")"
   ]
  },
  {
   "cell_type": "code",
   "execution_count": 148,
   "metadata": {},
   "outputs": [
    {
     "data": {
      "text/html": [
       "<div>\n",
       "<style scoped>\n",
       "    .dataframe tbody tr th:only-of-type {\n",
       "        vertical-align: middle;\n",
       "    }\n",
       "\n",
       "    .dataframe tbody tr th {\n",
       "        vertical-align: top;\n",
       "    }\n",
       "\n",
       "    .dataframe thead th {\n",
       "        text-align: right;\n",
       "    }\n",
       "</style>\n",
       "<table border=\"1\" class=\"dataframe\">\n",
       "  <thead>\n",
       "    <tr style=\"text-align: right;\">\n",
       "      <th></th>\n",
       "      <th>ABV</th>\n",
       "      <th>appearance</th>\n",
       "      <th>aroma</th>\n",
       "      <th>overall</th>\n",
       "      <th>palate</th>\n",
       "      <th>taste</th>\n",
       "      <th>userBias</th>\n",
       "      <th>word_count</th>\n",
       "      <th>char_count</th>\n",
       "      <th>avg_word_len</th>\n",
       "      <th>...</th>\n",
       "      <th>Spain</th>\n",
       "      <th>Sri Lanka</th>\n",
       "      <th>Sweden</th>\n",
       "      <th>Switzerland</th>\n",
       "      <th>Taiwan, Province of China</th>\n",
       "      <th>Thailand</th>\n",
       "      <th>Togo</th>\n",
       "      <th>United Kingdom</th>\n",
       "      <th>United States</th>\n",
       "      <th>Location Unknown</th>\n",
       "    </tr>\n",
       "  </thead>\n",
       "  <tbody>\n",
       "    <tr>\n",
       "      <th>0</th>\n",
       "      <td>0.092014</td>\n",
       "      <td>0.7</td>\n",
       "      <td>0.750</td>\n",
       "      <td>1.0</td>\n",
       "      <td>0.750</td>\n",
       "      <td>0.875</td>\n",
       "      <td>0.745000</td>\n",
       "      <td>0.135593</td>\n",
       "      <td>0.135916</td>\n",
       "      <td>0.312620</td>\n",
       "      <td>...</td>\n",
       "      <td>0.0</td>\n",
       "      <td>0.0</td>\n",
       "      <td>0.0</td>\n",
       "      <td>0.0</td>\n",
       "      <td>0.0</td>\n",
       "      <td>0.0</td>\n",
       "      <td>0.0</td>\n",
       "      <td>0.0</td>\n",
       "      <td>0.0</td>\n",
       "      <td>0.0</td>\n",
       "    </tr>\n",
       "    <tr>\n",
       "      <th>1</th>\n",
       "      <td>0.192708</td>\n",
       "      <td>0.8</td>\n",
       "      <td>1.000</td>\n",
       "      <td>1.0</td>\n",
       "      <td>1.000</td>\n",
       "      <td>1.000</td>\n",
       "      <td>0.766250</td>\n",
       "      <td>0.238418</td>\n",
       "      <td>0.232877</td>\n",
       "      <td>0.270866</td>\n",
       "      <td>...</td>\n",
       "      <td>0.0</td>\n",
       "      <td>0.0</td>\n",
       "      <td>0.0</td>\n",
       "      <td>0.0</td>\n",
       "      <td>0.0</td>\n",
       "      <td>0.0</td>\n",
       "      <td>0.0</td>\n",
       "      <td>0.0</td>\n",
       "      <td>0.0</td>\n",
       "      <td>1.0</td>\n",
       "    </tr>\n",
       "    <tr>\n",
       "      <th>2</th>\n",
       "      <td>0.111111</td>\n",
       "      <td>0.8</td>\n",
       "      <td>0.875</td>\n",
       "      <td>1.0</td>\n",
       "      <td>0.875</td>\n",
       "      <td>0.875</td>\n",
       "      <td>0.775000</td>\n",
       "      <td>0.114124</td>\n",
       "      <td>0.119221</td>\n",
       "      <td>0.425918</td>\n",
       "      <td>...</td>\n",
       "      <td>0.0</td>\n",
       "      <td>0.0</td>\n",
       "      <td>0.0</td>\n",
       "      <td>0.0</td>\n",
       "      <td>0.0</td>\n",
       "      <td>0.0</td>\n",
       "      <td>0.0</td>\n",
       "      <td>0.0</td>\n",
       "      <td>0.0</td>\n",
       "      <td>1.0</td>\n",
       "    </tr>\n",
       "    <tr>\n",
       "      <th>3</th>\n",
       "      <td>0.123264</td>\n",
       "      <td>0.8</td>\n",
       "      <td>0.875</td>\n",
       "      <td>1.0</td>\n",
       "      <td>0.750</td>\n",
       "      <td>0.875</td>\n",
       "      <td>0.711000</td>\n",
       "      <td>0.213559</td>\n",
       "      <td>0.221747</td>\n",
       "      <td>0.344344</td>\n",
       "      <td>...</td>\n",
       "      <td>0.0</td>\n",
       "      <td>0.0</td>\n",
       "      <td>0.0</td>\n",
       "      <td>0.0</td>\n",
       "      <td>0.0</td>\n",
       "      <td>0.0</td>\n",
       "      <td>0.0</td>\n",
       "      <td>0.0</td>\n",
       "      <td>0.0</td>\n",
       "      <td>1.0</td>\n",
       "    </tr>\n",
       "    <tr>\n",
       "      <th>4</th>\n",
       "      <td>0.175347</td>\n",
       "      <td>0.8</td>\n",
       "      <td>0.875</td>\n",
       "      <td>1.0</td>\n",
       "      <td>0.875</td>\n",
       "      <td>0.875</td>\n",
       "      <td>0.755556</td>\n",
       "      <td>0.211299</td>\n",
       "      <td>0.209332</td>\n",
       "      <td>0.288806</td>\n",
       "      <td>...</td>\n",
       "      <td>0.0</td>\n",
       "      <td>0.0</td>\n",
       "      <td>0.0</td>\n",
       "      <td>0.0</td>\n",
       "      <td>0.0</td>\n",
       "      <td>0.0</td>\n",
       "      <td>0.0</td>\n",
       "      <td>0.0</td>\n",
       "      <td>0.0</td>\n",
       "      <td>1.0</td>\n",
       "    </tr>\n",
       "  </tbody>\n",
       "</table>\n",
       "<p>5 rows × 184 columns</p>\n",
       "</div>"
      ],
      "text/plain": [
       "        ABV  appearance  aroma  overall  palate  taste  userBias  word_count  \\\n",
       "0  0.092014         0.7  0.750      1.0   0.750  0.875  0.745000    0.135593   \n",
       "1  0.192708         0.8  1.000      1.0   1.000  1.000  0.766250    0.238418   \n",
       "2  0.111111         0.8  0.875      1.0   0.875  0.875  0.775000    0.114124   \n",
       "3  0.123264         0.8  0.875      1.0   0.750  0.875  0.711000    0.213559   \n",
       "4  0.175347         0.8  0.875      1.0   0.875  0.875  0.755556    0.211299   \n",
       "\n",
       "   char_count  avg_word_len        ...         Spain  Sri Lanka  Sweden  \\\n",
       "0    0.135916      0.312620        ...           0.0        0.0     0.0   \n",
       "1    0.232877      0.270866        ...           0.0        0.0     0.0   \n",
       "2    0.119221      0.425918        ...           0.0        0.0     0.0   \n",
       "3    0.221747      0.344344        ...           0.0        0.0     0.0   \n",
       "4    0.209332      0.288806        ...           0.0        0.0     0.0   \n",
       "\n",
       "   Switzerland  Taiwan, Province of China  Thailand  Togo  United Kingdom  \\\n",
       "0          0.0                        0.0       0.0   0.0             0.0   \n",
       "1          0.0                        0.0       0.0   0.0             0.0   \n",
       "2          0.0                        0.0       0.0   0.0             0.0   \n",
       "3          0.0                        0.0       0.0   0.0             0.0   \n",
       "4          0.0                        0.0       0.0   0.0             0.0   \n",
       "\n",
       "   United States  Location Unknown  \n",
       "0            0.0               0.0  \n",
       "1            0.0               1.0  \n",
       "2            0.0               1.0  \n",
       "3            0.0               1.0  \n",
       "4            0.0               1.0  \n",
       "\n",
       "[5 rows x 184 columns]"
      ]
     },
     "execution_count": 148,
     "metadata": {},
     "output_type": "execute_result"
    }
   ],
   "source": [
    "full.head()"
   ]
  },
  {
   "cell_type": "code",
   "execution_count": 149,
   "metadata": {},
   "outputs": [
    {
     "data": {
      "text/html": [
       "<div>\n",
       "<style scoped>\n",
       "    .dataframe tbody tr th:only-of-type {\n",
       "        vertical-align: middle;\n",
       "    }\n",
       "\n",
       "    .dataframe tbody tr th {\n",
       "        vertical-align: top;\n",
       "    }\n",
       "\n",
       "    .dataframe thead th {\n",
       "        text-align: right;\n",
       "    }\n",
       "</style>\n",
       "<table border=\"1\" class=\"dataframe\">\n",
       "  <thead>\n",
       "    <tr style=\"text-align: right;\">\n",
       "      <th></th>\n",
       "      <th>ABV</th>\n",
       "      <th>appearance</th>\n",
       "      <th>aroma</th>\n",
       "      <th>overall</th>\n",
       "      <th>palate</th>\n",
       "      <th>taste</th>\n",
       "      <th>userBias</th>\n",
       "      <th>word_count</th>\n",
       "      <th>char_count</th>\n",
       "      <th>avg_word_len</th>\n",
       "      <th>...</th>\n",
       "      <th>Spain</th>\n",
       "      <th>Sri Lanka</th>\n",
       "      <th>Sweden</th>\n",
       "      <th>Switzerland</th>\n",
       "      <th>Taiwan, Province of China</th>\n",
       "      <th>Thailand</th>\n",
       "      <th>Togo</th>\n",
       "      <th>United Kingdom</th>\n",
       "      <th>United States</th>\n",
       "      <th>Location Unknown</th>\n",
       "    </tr>\n",
       "  </thead>\n",
       "  <tbody>\n",
       "    <tr>\n",
       "      <th>0</th>\n",
       "      <td>0.092014</td>\n",
       "      <td>0.7</td>\n",
       "      <td>0.750</td>\n",
       "      <td>1.0</td>\n",
       "      <td>0.750</td>\n",
       "      <td>0.875</td>\n",
       "      <td>0.745000</td>\n",
       "      <td>0.135593</td>\n",
       "      <td>0.135916</td>\n",
       "      <td>0.312620</td>\n",
       "      <td>...</td>\n",
       "      <td>0.0</td>\n",
       "      <td>0.0</td>\n",
       "      <td>0.0</td>\n",
       "      <td>0.0</td>\n",
       "      <td>0.0</td>\n",
       "      <td>0.0</td>\n",
       "      <td>0.0</td>\n",
       "      <td>0.0</td>\n",
       "      <td>0.0</td>\n",
       "      <td>0.0</td>\n",
       "    </tr>\n",
       "    <tr>\n",
       "      <th>1</th>\n",
       "      <td>0.192708</td>\n",
       "      <td>0.8</td>\n",
       "      <td>1.000</td>\n",
       "      <td>1.0</td>\n",
       "      <td>1.000</td>\n",
       "      <td>1.000</td>\n",
       "      <td>0.766250</td>\n",
       "      <td>0.238418</td>\n",
       "      <td>0.232877</td>\n",
       "      <td>0.270866</td>\n",
       "      <td>...</td>\n",
       "      <td>0.0</td>\n",
       "      <td>0.0</td>\n",
       "      <td>0.0</td>\n",
       "      <td>0.0</td>\n",
       "      <td>0.0</td>\n",
       "      <td>0.0</td>\n",
       "      <td>0.0</td>\n",
       "      <td>0.0</td>\n",
       "      <td>0.0</td>\n",
       "      <td>1.0</td>\n",
       "    </tr>\n",
       "    <tr>\n",
       "      <th>2</th>\n",
       "      <td>0.111111</td>\n",
       "      <td>0.8</td>\n",
       "      <td>0.875</td>\n",
       "      <td>1.0</td>\n",
       "      <td>0.875</td>\n",
       "      <td>0.875</td>\n",
       "      <td>0.775000</td>\n",
       "      <td>0.114124</td>\n",
       "      <td>0.119221</td>\n",
       "      <td>0.425918</td>\n",
       "      <td>...</td>\n",
       "      <td>0.0</td>\n",
       "      <td>0.0</td>\n",
       "      <td>0.0</td>\n",
       "      <td>0.0</td>\n",
       "      <td>0.0</td>\n",
       "      <td>0.0</td>\n",
       "      <td>0.0</td>\n",
       "      <td>0.0</td>\n",
       "      <td>0.0</td>\n",
       "      <td>1.0</td>\n",
       "    </tr>\n",
       "    <tr>\n",
       "      <th>3</th>\n",
       "      <td>0.123264</td>\n",
       "      <td>0.8</td>\n",
       "      <td>0.875</td>\n",
       "      <td>1.0</td>\n",
       "      <td>0.750</td>\n",
       "      <td>0.875</td>\n",
       "      <td>0.711000</td>\n",
       "      <td>0.213559</td>\n",
       "      <td>0.221747</td>\n",
       "      <td>0.344344</td>\n",
       "      <td>...</td>\n",
       "      <td>0.0</td>\n",
       "      <td>0.0</td>\n",
       "      <td>0.0</td>\n",
       "      <td>0.0</td>\n",
       "      <td>0.0</td>\n",
       "      <td>0.0</td>\n",
       "      <td>0.0</td>\n",
       "      <td>0.0</td>\n",
       "      <td>0.0</td>\n",
       "      <td>1.0</td>\n",
       "    </tr>\n",
       "    <tr>\n",
       "      <th>4</th>\n",
       "      <td>0.175347</td>\n",
       "      <td>0.8</td>\n",
       "      <td>0.875</td>\n",
       "      <td>1.0</td>\n",
       "      <td>0.875</td>\n",
       "      <td>0.875</td>\n",
       "      <td>0.755556</td>\n",
       "      <td>0.211299</td>\n",
       "      <td>0.209332</td>\n",
       "      <td>0.288806</td>\n",
       "      <td>...</td>\n",
       "      <td>0.0</td>\n",
       "      <td>0.0</td>\n",
       "      <td>0.0</td>\n",
       "      <td>0.0</td>\n",
       "      <td>0.0</td>\n",
       "      <td>0.0</td>\n",
       "      <td>0.0</td>\n",
       "      <td>0.0</td>\n",
       "      <td>0.0</td>\n",
       "      <td>1.0</td>\n",
       "    </tr>\n",
       "  </tbody>\n",
       "</table>\n",
       "<p>5 rows × 184 columns</p>\n",
       "</div>"
      ],
      "text/plain": [
       "        ABV  appearance  aroma  overall  palate  taste  userBias  word_count  \\\n",
       "0  0.092014         0.7  0.750      1.0   0.750  0.875  0.745000    0.135593   \n",
       "1  0.192708         0.8  1.000      1.0   1.000  1.000  0.766250    0.238418   \n",
       "2  0.111111         0.8  0.875      1.0   0.875  0.875  0.775000    0.114124   \n",
       "3  0.123264         0.8  0.875      1.0   0.750  0.875  0.711000    0.213559   \n",
       "4  0.175347         0.8  0.875      1.0   0.875  0.875  0.755556    0.211299   \n",
       "\n",
       "   char_count  avg_word_len        ...         Spain  Sri Lanka  Sweden  \\\n",
       "0    0.135916      0.312620        ...           0.0        0.0     0.0   \n",
       "1    0.232877      0.270866        ...           0.0        0.0     0.0   \n",
       "2    0.119221      0.425918        ...           0.0        0.0     0.0   \n",
       "3    0.221747      0.344344        ...           0.0        0.0     0.0   \n",
       "4    0.209332      0.288806        ...           0.0        0.0     0.0   \n",
       "\n",
       "   Switzerland  Taiwan, Province of China  Thailand  Togo  United Kingdom  \\\n",
       "0          0.0                        0.0       0.0   0.0             0.0   \n",
       "1          0.0                        0.0       0.0   0.0             0.0   \n",
       "2          0.0                        0.0       0.0   0.0             0.0   \n",
       "3          0.0                        0.0       0.0   0.0             0.0   \n",
       "4          0.0                        0.0       0.0   0.0             0.0   \n",
       "\n",
       "   United States  Location Unknown  \n",
       "0            0.0               0.0  \n",
       "1            0.0               1.0  \n",
       "2            0.0               1.0  \n",
       "3            0.0               1.0  \n",
       "4            0.0               1.0  \n",
       "\n",
       "[5 rows x 184 columns]"
      ]
     },
     "execution_count": 149,
     "metadata": {},
     "output_type": "execute_result"
    }
   ],
   "source": [
    "data = full.select_dtypes(include=[np.number]).fillna(0)\n",
    "data.head()"
   ]
  },
  {
   "cell_type": "code",
   "execution_count": 150,
   "metadata": {},
   "outputs": [],
   "source": [
    "appearance = data\n",
    "appearance = appearance.drop(\"appearance\", axis=1)\n",
    "appearance = appearance.drop(\"aroma\",axis=1)\n",
    "appearance = appearance.drop(\"overall\",axis=1)\n",
    "appearance = appearance.drop(\"palate\", axis = 1)\n",
    "appearance = appearance.drop(\"taste\", axis = 1)\n",
    "yval_appearance = data['appearance']"
   ]
  },
  {
   "cell_type": "code",
   "execution_count": 153,
   "metadata": {},
   "outputs": [],
   "source": [
    "aroma = data\n",
    "aroma = aroma.drop(\"appearance\",axis=1)\n",
    "aroma = aroma.drop(\"aroma\",axis=1)\n",
    "aroma = aroma.drop(\"overall\",axis=1)\n",
    "aroma = aroma.drop(\"palate\", axis = 1)\n",
    "aroma = aroma.drop(\"taste\", axis = 1)\n",
    "yval_aroma = data['aroma']"
   ]
  },
  {
   "cell_type": "code",
   "execution_count": 155,
   "metadata": {},
   "outputs": [],
   "source": [
    "overall = data\n",
    "overall = overall.drop(\"appearance\",axis=1)\n",
    "overall = overall.drop(\"aroma\",axis=1)\n",
    "overall = overall.drop(\"overall\",axis=1)\n",
    "overall = overall.drop(\"palate\", axis = 1)\n",
    "overall = overall.drop(\"taste\", axis = 1)\n",
    "yval_overall = data['overall']"
   ]
  },
  {
   "cell_type": "code",
   "execution_count": 118,
   "metadata": {},
   "outputs": [],
   "source": [
    "palate = data\n",
    "palate = palate.drop(\"appearance\",axis=1)\n",
    "palate = palate.drop(\"aroma\",axis=1)\n",
    "palate = palate.drop(\"overall\", axis = 1)\n",
    "palate = palate.drop(\"palate\", axis = 1)\n",
    "palate = palate.drop(\"taste\", axis = 1)\n",
    "yval_palate = data['palate']"
   ]
  },
  {
   "cell_type": "code",
   "execution_count": 119,
   "metadata": {},
   "outputs": [],
   "source": [
    "taste = data\n",
    "taste = taste.drop(\"appearance\",axis=1)\n",
    "taste = taste.drop(\"aroma\",axis=1)\n",
    "taste = taste.drop(\"overall\", axis = 1)\n",
    "taste = taste.drop(\"palate\", axis = 1)\n",
    "taste = taste.drop(\"taste\", axis=1)\n",
    "yval_taste = data['taste']"
   ]
  },
  {
   "cell_type": "code",
   "execution_count": 120,
   "metadata": {},
   "outputs": [],
   "source": [
    "alphas = np.logspace(-3, -1, len(list(appearance)))\n",
    "\n",
    "def SSE(X, y, betaHat):\n",
    "    return np.sum((y-np.matmul(X, betaHat))**2)"
   ]
  },
  {
   "cell_type": "code",
   "execution_count": 121,
   "metadata": {},
   "outputs": [
    {
     "name": "stdout",
     "output_type": "stream",
     "text": [
      "0.177597751235\n"
     ]
    }
   ],
   "source": [
    "reg_appearance = LassoCV(alphas = alphas, max_iter = 50000, cv = 25).fit(appearance, yval_appearance)\n",
    "appearanceSSE = SSE(appearance, yval_appearance, reg_appearance.coef_)/appearance.shape[0]\n",
    "print(appearanceSSE)"
   ]
  },
  {
   "cell_type": "code",
   "execution_count": 123,
   "metadata": {},
   "outputs": [
    {
     "data": {
      "text/plain": [
       "Text(0,0.5,'Score')"
      ]
     },
     "execution_count": 123,
     "metadata": {},
     "output_type": "execute_result"
    },
    {
     "data": {
      "image/png": "[encoded data removed]",
      "text/plain": [
       "<Figure size 432x288 with 1 Axes>"
      ]
     },
     "metadata": {},
     "output_type": "display_data"
    }
   ],
   "source": [
    "import matplotlib.pyplot as plt\n",
    "X_train, X_test, y_train, y_test = cv.train_test_split(appearance, yval_appearance, test_size=0.25, random_state=0)\n",
    "lassocv_score = reg_appearance.score(appearance, yval_appearance)\n",
    "lassocv_alpha = reg_appearance.alpha_\n",
    "scores = np.empty_like(alphas)\n",
    "mse = np.empty_like(alphas)\n",
    "for i,a in enumerate(alphas):\n",
    "    lasso = linear_model.Lasso()\n",
    "    lasso.set_params(alpha=a)\n",
    "    lasso.fit(X_train, y_train)\n",
    "    scores[i] = lasso.score(X_test, y_test)\n",
    "    mse[i] = mean_squared_error(y_test, lasso.predict(X_test))\n",
    "    \n",
    "plt.plot(alphas, scores, '-ko')\n",
    "plt.axhline(lassocv_score, color='b', ls='--')\n",
    "plt.axvline(lassocv_alpha, color='b', ls='--')\n",
    "plt.xlabel(r'$\\alpha$')\n",
    "plt.ylabel('Score')"
   ]
  },
  {
   "cell_type": "code",
   "execution_count": 67,
   "metadata": {},
   "outputs": [
    {
     "name": "stdout",
     "output_type": "stream",
     "text": [
      "0.0168377280184\n"
     ]
    }
   ],
   "source": [
    "reg_aroma = LassoCV(alphas = alphas, max_iter = 10000, cv = 20).fit(aroma, yval_aroma)\n",
    "aromaSSE = SSE(aroma, yval_aroma, reg_aroma.coef_)/aroma.shape[0]\n",
    "print(aromaSSE)"
   ]
  },
  {
   "cell_type": "code",
   "execution_count": 68,
   "metadata": {},
   "outputs": [
    {
     "data": {
      "text/plain": [
       "Text(0,0.5,'Score')"
      ]
     },
     "execution_count": 68,
     "metadata": {},
     "output_type": "execute_result"
    },
    {
     "data": {
      "image/png": "[encoded data removed]",
      "text/plain": [
       "<Figure size 432x288 with 1 Axes>"
      ]
     },
     "metadata": {},
     "output_type": "display_data"
    }
   ],
   "source": [
    "X_train, X_test, y_train, y_test = cv.train_test_split(aroma, yval_aroma, test_size=0.25, random_state=0)\n",
    "lassocv_score = reg_aroma.score(aroma, yval_aroma)\n",
    "lassocv_alpha = reg_aroma.alpha_\n",
    "scores = np.empty_like(alphas)\n",
    "for i,a in enumerate(alphas):\n",
    "    lasso = linear_model.Lasso()\n",
    "    lasso.set_params(alpha=a)\n",
    "    lasso.fit(X_train, y_train)\n",
    "    scores[i] = lasso.score(X_test, y_test)\n",
    "plt.plot(alphas, scores, '-ko')\n",
    "plt.axhline(lassocv_score, color='b', ls='--')\n",
    "plt.axvline(lassocv_alpha, color='b', ls='--')\n",
    "plt.xlabel(r'$\\alpha$')\n",
    "plt.ylabel('Score')\n"
   ]
  },
  {
   "cell_type": "code",
   "execution_count": 69,
   "metadata": {},
   "outputs": [
    {
     "name": "stdout",
     "output_type": "stream",
     "text": [
      "0.0206269149441\n"
     ]
    }
   ],
   "source": [
    "reg_overall = LassoCV(alphas = alphas, max_iter = 10000, cv = 20).fit(overall, yval_overall)\n",
    "overallSSE = SSE(overall, yval_overall, reg_overall.coef_)/overall.shape[0]\n",
    "print(overallSSE)"
   ]
  },
  {
   "cell_type": "code",
   "execution_count": 70,
   "metadata": {},
   "outputs": [
    {
     "data": {
      "text/plain": [
       "Text(0,0.5,'Score')"
      ]
     },
     "execution_count": 70,
     "metadata": {},
     "output_type": "execute_result"
    },
    {
     "data": {
      "image/png": "[encoded data removed]",
      "text/plain": [
       "<Figure size 432x288 with 1 Axes>"
      ]
     },
     "metadata": {},
     "output_type": "display_data"
    }
   ],
   "source": [
    "X_train, X_test, y_train, y_test = cv.train_test_split(overall, yval_overall, test_size=0.25, random_state=0)\n",
    "lassocv_score = reg_overall.score(overall, yval_overall)\n",
    "lassocv_alpha = reg_overall.alpha_\n",
    "scores = np.empty_like(alphas)\n",
    "for i,a in enumerate(alphas):\n",
    "    lasso = linear_model.Lasso()\n",
    "    lasso.set_params(alpha=a)\n",
    "    lasso.fit(X_train, y_train)\n",
    "    scores[i] = lasso.score(X_test, y_test)\n",
    "plt.plot(alphas, scores, '-ko')\n",
    "plt.axhline(lassocv_score, color='b', ls='--')\n",
    "plt.axvline(lassocv_alpha, color='b', ls='--')\n",
    "plt.xlabel(r'$\\alpha$')\n",
    "plt.ylabel('Score')"
   ]
  },
  {
   "cell_type": "code",
   "execution_count": 71,
   "metadata": {},
   "outputs": [
    {
     "name": "stdout",
     "output_type": "stream",
     "text": [
      "0.0189832775884\n"
     ]
    }
   ],
   "source": [
    "reg_palate = LassoCV(alphas = alphas, max_iter = 20000, cv = 20).fit(palate, yval_palate)\n",
    "palateSSE = SSE(palate, yval_palate, reg_palate.coef_)/palate.shape[0]\n",
    "print(palateSSE)"
   ]
  },
  {
   "cell_type": "code",
   "execution_count": 72,
   "metadata": {},
   "outputs": [
    {
     "data": {
      "text/plain": [
       "Text(0,0.5,'Score')"
      ]
     },
     "execution_count": 72,
     "metadata": {},
     "output_type": "execute_result"
    },
    {
     "data": {
      "image/png": "[encoded data removed]",
      "text/plain": [
       "<Figure size 432x288 with 1 Axes>"
      ]
     },
     "metadata": {},
     "output_type": "display_data"
    }
   ],
   "source": [
    "X_train, X_test, y_train, y_test = cv.train_test_split(palate, yval_palate, test_size=0.25, random_state=0)\n",
    "lassocv_score = reg_palate.score(palate, yval_palate)\n",
    "lassocv_alpha = reg_palate.alpha_\n",
    "scores = np.empty_like(alphas)\n",
    "for i,a in enumerate(alphas):\n",
    "    lasso = linear_model.Lasso()\n",
    "    lasso.set_params(alpha=a)\n",
    "    lasso.fit(X_train, y_train)\n",
    "    scores[i] = lasso.score(X_test, y_test)\n",
    "plt.plot(alphas, scores, '-ko')\n",
    "plt.axhline(lassocv_score, color='b', ls='--')\n",
    "plt.axvline(lassocv_alpha, color='b', ls='--')\n",
    "plt.xlabel(r'$\\alpha$')\n",
    "plt.ylabel('Score')"
   ]
  },
  {
   "cell_type": "code",
   "execution_count": 73,
   "metadata": {},
   "outputs": [
    {
     "name": "stdout",
     "output_type": "stream",
     "text": [
      "0.0474047402429\n"
     ]
    }
   ],
   "source": [
    "reg_taste = LassoCV(alphas = alphas, max_iter = 10000, cv = 20).fit(taste, yval_taste)\n",
    "tasteSSE = SSE(taste, yval_taste, reg_taste.coef_)/taste.shape[0]\n",
    "print(tasteSSE)"
   ]
  },
  {
   "cell_type": "code",
   "execution_count": 74,
   "metadata": {},
   "outputs": [
    {
     "data": {
      "text/plain": [
       "Text(0,0.5,'Score')"
      ]
     },
     "execution_count": 74,
     "metadata": {},
     "output_type": "execute_result"
    },
    {
     "data": {
      "image/png": "[encoded data removed]",
      "text/plain": [
       "<Figure size 432x288 with 1 Axes>"
      ]
     },
     "metadata": {},
     "output_type": "display_data"
    }
   ],
   "source": [
    "X_train, X_test, y_train, y_test = cv.train_test_split(taste, yval_taste, test_size=0.25, random_state=0)\n",
    "lassocv_score = reg_taste.score(taste, yval_taste)\n",
    "lassocv_alpha = reg_taste.alpha_\n",
    "scores = np.empty_like(alphas)\n",
    "for i,a in enumerate(alphas):\n",
    "    lasso = linear_model.Lasso()\n",
    "    lasso.set_params(alpha=a)\n",
    "    lasso.fit(X_train, y_train)\n",
    "    scores[i] = lasso.score(X_test, y_test)\n",
    "plt.plot(alphas, scores, '-ko')\n",
    "plt.axhline(lassocv_score, color='b', ls='--')\n",
    "plt.axvline(lassocv_alpha, color='b', ls='--')\n",
    "plt.xlabel(r'$\\alpha$')\n",
    "plt.ylabel('Score')"
   ]
  },
  {
   "cell_type": "code",
   "execution_count": 75,
   "metadata": {},
   "outputs": [],
   "source": [
    "def find_zero_coef(startList, coef): \n",
    "    for i in range(len(coef)):\n",
    "        if coef[i] == 0:\n",
    "            startList.append(i)\n",
    "    "
   ]
  },
  {
   "cell_type": "code",
   "execution_count": 76,
   "metadata": {},
   "outputs": [],
   "source": [
    "dropListAppearance = []\n",
    "dropListAroma = []\n",
    "dropListOverall = []\n",
    "dropListPalate = []\n",
    "dropListTaste = []\n",
    "\n",
    "find_zero_coef(dropListAppearance, reg_appearance.coef_)\n",
    "find_zero_coef(dropListAroma, reg_aroma.coef_)\n",
    "find_zero_coef(dropListOverall, reg_overall.coef_)\n",
    "find_zero_coef(dropListPalate, reg_palate.coef_)\n",
    "find_zero_coef(dropListTaste, reg_taste.coef_)\n"
   ]
  },
  {
   "cell_type": "code",
   "execution_count": 77,
   "metadata": {},
   "outputs": [],
   "source": [
    "appearance = appearance.drop(appearance.columns[dropListAppearance], axis = 1)\n",
    "appearanceCoef = np.delete(reg_appearance.coef_, dropListAppearance)\n",
    "appearanceBIC = appearance.shape[0]*np.log(SSE(appearance, yval_appearance, appearanceCoef)/appearance.shape[0]) + appearance.shape[1]*np.log(appearance.shape[0])\n"
   ]
  },
  {
   "cell_type": "code",
   "execution_count": 78,
   "metadata": {},
   "outputs": [],
   "source": [
    "aroma = aroma.drop(aroma.columns[dropListAroma], axis = 1)\n",
    "aromaCoef = np.delete(reg_aroma.coef_, dropListAroma)\n",
    "aromaBIC = aroma.shape[0]*np.log(SSE(aroma, yval_aroma, aromaCoef)/aroma.shape[0]) + aroma.shape[1]*np.log(aroma.shape[0])\n"
   ]
  },
  {
   "cell_type": "code",
   "execution_count": 79,
   "metadata": {},
   "outputs": [],
   "source": [
    "overall = overall.drop(overall.columns[dropListOverall], axis = 1)\n",
    "overallCoef = np.delete(reg_overall.coef_, dropListOverall)\n",
    "overallBIC = overall.shape[0]*np.log(SSE(overall, yval_overall, overallCoef)/overall.shape[0]) + overall.shape[1]*np.log(overall.shape[0])\n"
   ]
  },
  {
   "cell_type": "code",
   "execution_count": 80,
   "metadata": {},
   "outputs": [],
   "source": [
    "palate = palate.drop(palate.columns[dropListPalate], axis = 1)\n",
    "palateCoef = np.delete(reg_palate.coef_, dropListPalate)\n",
    "palateBIC = palate.shape[0]*np.log(SSE(palate, yval_palate, palateCoef)/palate.shape[0]) + palate.shape[1]*np.log(palate.shape[0])\n"
   ]
  },
  {
   "cell_type": "code",
   "execution_count": 81,
   "metadata": {},
   "outputs": [],
   "source": [
    "taste = taste.drop(taste.columns[dropListTaste], axis = 1)\n",
    "tasteCoef = np.delete(reg_taste.coef_, dropListTaste)\n",
    "tasteBIC = taste.shape[0]*np.log(SSE(taste, yval_taste, tasteCoef)/taste.shape[0]) + taste.shape[1]*np.log(taste.shape[0])\n"
   ]
  },
  {
   "cell_type": "code",
   "execution_count": 82,
   "metadata": {},
   "outputs": [
    {
     "name": "stdout",
     "output_type": "stream",
     "text": [
      "-64692.9260842\n"
     ]
    }
   ],
   "source": [
    "print(appearanceBIC)"
   ]
  },
  {
   "cell_type": "code",
   "execution_count": 83,
   "metadata": {},
   "outputs": [
    {
     "name": "stdout",
     "output_type": "stream",
     "text": [
      "-152954.884986\n"
     ]
    }
   ],
   "source": [
    "print(aromaBIC)"
   ]
  },
  {
   "cell_type": "code",
   "execution_count": 84,
   "metadata": {},
   "outputs": [
    {
     "name": "stdout",
     "output_type": "stream",
     "text": [
      "-145480.251371\n"
     ]
    }
   ],
   "source": [
    "print(overallBIC)"
   ]
  },
  {
   "cell_type": "code",
   "execution_count": 85,
   "metadata": {},
   "outputs": [
    {
     "name": "stdout",
     "output_type": "stream",
     "text": [
      "-148520.463285\n"
     ]
    }
   ],
   "source": [
    "print(palateBIC)"
   ]
  },
  {
   "cell_type": "code",
   "execution_count": 86,
   "metadata": {},
   "outputs": [
    {
     "name": "stdout",
     "output_type": "stream",
     "text": [
      "-114191.290034\n"
     ]
    }
   ],
   "source": [
    "print(tasteBIC)"
   ]
  },
  {
   "cell_type": "code",
   "execution_count": 87,
   "metadata": {},
   "outputs": [
    {
     "data": {
      "text/html": [
       "<div>\n",
       "<style scoped>\n",
       "    .dataframe tbody tr th:only-of-type {\n",
       "        vertical-align: middle;\n",
       "    }\n",
       "\n",
       "    .dataframe tbody tr th {\n",
       "        vertical-align: top;\n",
       "    }\n",
       "\n",
       "    .dataframe thead th {\n",
       "        text-align: right;\n",
       "    }\n",
       "</style>\n",
       "<table border=\"1\" class=\"dataframe\">\n",
       "  <thead>\n",
       "    <tr style=\"text-align: right;\">\n",
       "      <th></th>\n",
       "      <th>userBias</th>\n",
       "      <th>avg_sent</th>\n",
       "      <th>American Double / Imperial IPA</th>\n",
       "      <th>American Double / Imperial Stout</th>\n",
       "      <th>American IPA</th>\n",
       "      <th>Euro Pale Lager</th>\n",
       "      <th>Fruit / Vegetable Beer</th>\n",
       "      <th>Light Lager</th>\n",
       "      <th>Rauchbier</th>\n",
       "      <th>Russian Imperial Stout</th>\n",
       "      <th>Rye Beer</th>\n",
       "    </tr>\n",
       "  </thead>\n",
       "  <tbody>\n",
       "    <tr>\n",
       "      <th>0</th>\n",
       "      <td>0.745000</td>\n",
       "      <td>0.494144</td>\n",
       "      <td>0</td>\n",
       "      <td>0</td>\n",
       "      <td>0</td>\n",
       "      <td>0</td>\n",
       "      <td>0</td>\n",
       "      <td>0</td>\n",
       "      <td>1</td>\n",
       "      <td>0</td>\n",
       "      <td>0</td>\n",
       "    </tr>\n",
       "    <tr>\n",
       "      <th>1</th>\n",
       "      <td>0.766250</td>\n",
       "      <td>0.416718</td>\n",
       "      <td>0</td>\n",
       "      <td>1</td>\n",
       "      <td>0</td>\n",
       "      <td>0</td>\n",
       "      <td>0</td>\n",
       "      <td>0</td>\n",
       "      <td>0</td>\n",
       "      <td>0</td>\n",
       "      <td>0</td>\n",
       "    </tr>\n",
       "    <tr>\n",
       "      <th>2</th>\n",
       "      <td>0.775000</td>\n",
       "      <td>0.580659</td>\n",
       "      <td>0</td>\n",
       "      <td>0</td>\n",
       "      <td>1</td>\n",
       "      <td>0</td>\n",
       "      <td>0</td>\n",
       "      <td>0</td>\n",
       "      <td>0</td>\n",
       "      <td>0</td>\n",
       "      <td>0</td>\n",
       "    </tr>\n",
       "    <tr>\n",
       "      <th>3</th>\n",
       "      <td>0.711000</td>\n",
       "      <td>0.566334</td>\n",
       "      <td>0</td>\n",
       "      <td>0</td>\n",
       "      <td>1</td>\n",
       "      <td>0</td>\n",
       "      <td>0</td>\n",
       "      <td>0</td>\n",
       "      <td>0</td>\n",
       "      <td>0</td>\n",
       "      <td>0</td>\n",
       "    </tr>\n",
       "    <tr>\n",
       "      <th>4</th>\n",
       "      <td>0.755556</td>\n",
       "      <td>0.483692</td>\n",
       "      <td>0</td>\n",
       "      <td>0</td>\n",
       "      <td>0</td>\n",
       "      <td>0</td>\n",
       "      <td>0</td>\n",
       "      <td>0</td>\n",
       "      <td>0</td>\n",
       "      <td>0</td>\n",
       "      <td>0</td>\n",
       "    </tr>\n",
       "  </tbody>\n",
       "</table>\n",
       "</div>"
      ],
      "text/plain": [
       "   userBias  avg_sent  American Double / Imperial IPA  \\\n",
       "0  0.745000  0.494144                               0   \n",
       "1  0.766250  0.416718                               0   \n",
       "2  0.775000  0.580659                               0   \n",
       "3  0.711000  0.566334                               0   \n",
       "4  0.755556  0.483692                               0   \n",
       "\n",
       "   American Double / Imperial Stout  American IPA  Euro Pale Lager  \\\n",
       "0                                 0             0                0   \n",
       "1                                 1             0                0   \n",
       "2                                 0             1                0   \n",
       "3                                 0             1                0   \n",
       "4                                 0             0                0   \n",
       "\n",
       "   Fruit / Vegetable Beer  Light Lager  Rauchbier  Russian Imperial Stout  \\\n",
       "0                       0            0          1                       0   \n",
       "1                       0            0          0                       0   \n",
       "2                       0            0          0                       0   \n",
       "3                       0            0          0                       0   \n",
       "4                       0            0          0                       0   \n",
       "\n",
       "   Rye Beer  \n",
       "0         0  \n",
       "1         0  \n",
       "2         0  \n",
       "3         0  \n",
       "4         0  "
      ]
     },
     "execution_count": 87,
     "metadata": {},
     "output_type": "execute_result"
    }
   ],
   "source": [
    "appearance.head()"
   ]
  },
  {
   "cell_type": "code",
   "execution_count": 88,
   "metadata": {},
   "outputs": [
    {
     "data": {
      "text/html": [
       "<div>\n",
       "<style scoped>\n",
       "    .dataframe tbody tr th:only-of-type {\n",
       "        vertical-align: middle;\n",
       "    }\n",
       "\n",
       "    .dataframe tbody tr th {\n",
       "        vertical-align: top;\n",
       "    }\n",
       "\n",
       "    .dataframe thead th {\n",
       "        text-align: right;\n",
       "    }\n",
       "</style>\n",
       "<table border=\"1\" class=\"dataframe\">\n",
       "  <thead>\n",
       "    <tr style=\"text-align: right;\">\n",
       "      <th></th>\n",
       "      <th>ABV</th>\n",
       "      <th>userBias</th>\n",
       "      <th>char_count</th>\n",
       "      <th>avg_sent</th>\n",
       "      <th>American Double / Imperial IPA</th>\n",
       "      <th>American Double / Imperial Stout</th>\n",
       "      <th>American IPA</th>\n",
       "      <th>American Pale Ale (APA)</th>\n",
       "      <th>American Porter</th>\n",
       "      <th>Czech Pilsener</th>\n",
       "      <th>English Pale Ale</th>\n",
       "      <th>Euro Pale Lager</th>\n",
       "      <th>Light Lager</th>\n",
       "      <th>Old Ale</th>\n",
       "      <th>Rauchbier</th>\n",
       "      <th>Russian Imperial Stout</th>\n",
       "      <th>Rye Beer</th>\n",
       "      <th>Scotch Ale / Wee Heavy</th>\n",
       "      <th>Netherlands</th>\n",
       "    </tr>\n",
       "  </thead>\n",
       "  <tbody>\n",
       "    <tr>\n",
       "      <th>0</th>\n",
       "      <td>0.092014</td>\n",
       "      <td>0.745000</td>\n",
       "      <td>0.135916</td>\n",
       "      <td>0.494144</td>\n",
       "      <td>0</td>\n",
       "      <td>0</td>\n",
       "      <td>0</td>\n",
       "      <td>0</td>\n",
       "      <td>0</td>\n",
       "      <td>0</td>\n",
       "      <td>0</td>\n",
       "      <td>0</td>\n",
       "      <td>0</td>\n",
       "      <td>0</td>\n",
       "      <td>1</td>\n",
       "      <td>0</td>\n",
       "      <td>0</td>\n",
       "      <td>0</td>\n",
       "      <td>0.0</td>\n",
       "    </tr>\n",
       "    <tr>\n",
       "      <th>1</th>\n",
       "      <td>0.192708</td>\n",
       "      <td>0.766250</td>\n",
       "      <td>0.232877</td>\n",
       "      <td>0.416718</td>\n",
       "      <td>0</td>\n",
       "      <td>1</td>\n",
       "      <td>0</td>\n",
       "      <td>0</td>\n",
       "      <td>0</td>\n",
       "      <td>0</td>\n",
       "      <td>0</td>\n",
       "      <td>0</td>\n",
       "      <td>0</td>\n",
       "      <td>0</td>\n",
       "      <td>0</td>\n",
       "      <td>0</td>\n",
       "      <td>0</td>\n",
       "      <td>0</td>\n",
       "      <td>0.0</td>\n",
       "    </tr>\n",
       "    <tr>\n",
       "      <th>2</th>\n",
       "      <td>0.111111</td>\n",
       "      <td>0.775000</td>\n",
       "      <td>0.119221</td>\n",
       "      <td>0.580659</td>\n",
       "      <td>0</td>\n",
       "      <td>0</td>\n",
       "      <td>1</td>\n",
       "      <td>0</td>\n",
       "      <td>0</td>\n",
       "      <td>0</td>\n",
       "      <td>0</td>\n",
       "      <td>0</td>\n",
       "      <td>0</td>\n",
       "      <td>0</td>\n",
       "      <td>0</td>\n",
       "      <td>0</td>\n",
       "      <td>0</td>\n",
       "      <td>0</td>\n",
       "      <td>0.0</td>\n",
       "    </tr>\n",
       "    <tr>\n",
       "      <th>3</th>\n",
       "      <td>0.123264</td>\n",
       "      <td>0.711000</td>\n",
       "      <td>0.221747</td>\n",
       "      <td>0.566334</td>\n",
       "      <td>0</td>\n",
       "      <td>0</td>\n",
       "      <td>1</td>\n",
       "      <td>0</td>\n",
       "      <td>0</td>\n",
       "      <td>0</td>\n",
       "      <td>0</td>\n",
       "      <td>0</td>\n",
       "      <td>0</td>\n",
       "      <td>0</td>\n",
       "      <td>0</td>\n",
       "      <td>0</td>\n",
       "      <td>0</td>\n",
       "      <td>0</td>\n",
       "      <td>0.0</td>\n",
       "    </tr>\n",
       "    <tr>\n",
       "      <th>4</th>\n",
       "      <td>0.175347</td>\n",
       "      <td>0.755556</td>\n",
       "      <td>0.209332</td>\n",
       "      <td>0.483692</td>\n",
       "      <td>0</td>\n",
       "      <td>0</td>\n",
       "      <td>0</td>\n",
       "      <td>0</td>\n",
       "      <td>0</td>\n",
       "      <td>0</td>\n",
       "      <td>0</td>\n",
       "      <td>0</td>\n",
       "      <td>0</td>\n",
       "      <td>0</td>\n",
       "      <td>0</td>\n",
       "      <td>0</td>\n",
       "      <td>0</td>\n",
       "      <td>1</td>\n",
       "      <td>0.0</td>\n",
       "    </tr>\n",
       "  </tbody>\n",
       "</table>\n",
       "</div>"
      ],
      "text/plain": [
       "        ABV  userBias  char_count  avg_sent  American Double / Imperial IPA  \\\n",
       "0  0.092014  0.745000    0.135916  0.494144                               0   \n",
       "1  0.192708  0.766250    0.232877  0.416718                               0   \n",
       "2  0.111111  0.775000    0.119221  0.580659                               0   \n",
       "3  0.123264  0.711000    0.221747  0.566334                               0   \n",
       "4  0.175347  0.755556    0.209332  0.483692                               0   \n",
       "\n",
       "   American Double / Imperial Stout  American IPA  American Pale Ale (APA)  \\\n",
       "0                                 0             0                        0   \n",
       "1                                 1             0                        0   \n",
       "2                                 0             1                        0   \n",
       "3                                 0             1                        0   \n",
       "4                                 0             0                        0   \n",
       "\n",
       "   American Porter  Czech Pilsener  English Pale Ale  Euro Pale Lager  \\\n",
       "0                0               0                 0                0   \n",
       "1                0               0                 0                0   \n",
       "2                0               0                 0                0   \n",
       "3                0               0                 0                0   \n",
       "4                0               0                 0                0   \n",
       "\n",
       "   Light Lager  Old Ale  Rauchbier  Russian Imperial Stout  Rye Beer  \\\n",
       "0            0        0          1                       0         0   \n",
       "1            0        0          0                       0         0   \n",
       "2            0        0          0                       0         0   \n",
       "3            0        0          0                       0         0   \n",
       "4            0        0          0                       0         0   \n",
       "\n",
       "   Scotch Ale / Wee Heavy  Netherlands  \n",
       "0                       0          0.0  \n",
       "1                       0          0.0  \n",
       "2                       0          0.0  \n",
       "3                       0          0.0  \n",
       "4                       1          0.0  "
      ]
     },
     "execution_count": 88,
     "metadata": {},
     "output_type": "execute_result"
    }
   ],
   "source": [
    "aroma.head()"
   ]
  },
  {
   "cell_type": "code",
   "execution_count": 89,
   "metadata": {},
   "outputs": [
    {
     "data": {
      "text/html": [
       "<div>\n",
       "<style scoped>\n",
       "    .dataframe tbody tr th:only-of-type {\n",
       "        vertical-align: middle;\n",
       "    }\n",
       "\n",
       "    .dataframe tbody tr th {\n",
       "        vertical-align: top;\n",
       "    }\n",
       "\n",
       "    .dataframe thead th {\n",
       "        text-align: right;\n",
       "    }\n",
       "</style>\n",
       "<table border=\"1\" class=\"dataframe\">\n",
       "  <thead>\n",
       "    <tr style=\"text-align: right;\">\n",
       "      <th></th>\n",
       "      <th>userBias</th>\n",
       "      <th>char_count</th>\n",
       "      <th>avg_sent</th>\n",
       "      <th>American Double / Imperial Stout</th>\n",
       "      <th>American IPA</th>\n",
       "      <th>Russian Imperial Stout</th>\n",
       "    </tr>\n",
       "  </thead>\n",
       "  <tbody>\n",
       "    <tr>\n",
       "      <th>0</th>\n",
       "      <td>0.745000</td>\n",
       "      <td>0.135916</td>\n",
       "      <td>0.494144</td>\n",
       "      <td>0</td>\n",
       "      <td>0</td>\n",
       "      <td>0</td>\n",
       "    </tr>\n",
       "    <tr>\n",
       "      <th>1</th>\n",
       "      <td>0.766250</td>\n",
       "      <td>0.232877</td>\n",
       "      <td>0.416718</td>\n",
       "      <td>1</td>\n",
       "      <td>0</td>\n",
       "      <td>0</td>\n",
       "    </tr>\n",
       "    <tr>\n",
       "      <th>2</th>\n",
       "      <td>0.775000</td>\n",
       "      <td>0.119221</td>\n",
       "      <td>0.580659</td>\n",
       "      <td>0</td>\n",
       "      <td>1</td>\n",
       "      <td>0</td>\n",
       "    </tr>\n",
       "    <tr>\n",
       "      <th>3</th>\n",
       "      <td>0.711000</td>\n",
       "      <td>0.221747</td>\n",
       "      <td>0.566334</td>\n",
       "      <td>0</td>\n",
       "      <td>1</td>\n",
       "      <td>0</td>\n",
       "    </tr>\n",
       "    <tr>\n",
       "      <th>4</th>\n",
       "      <td>0.755556</td>\n",
       "      <td>0.209332</td>\n",
       "      <td>0.483692</td>\n",
       "      <td>0</td>\n",
       "      <td>0</td>\n",
       "      <td>0</td>\n",
       "    </tr>\n",
       "  </tbody>\n",
       "</table>\n",
       "</div>"
      ],
      "text/plain": [
       "   userBias  char_count  avg_sent  American Double / Imperial Stout  \\\n",
       "0  0.745000    0.135916  0.494144                                 0   \n",
       "1  0.766250    0.232877  0.416718                                 1   \n",
       "2  0.775000    0.119221  0.580659                                 0   \n",
       "3  0.711000    0.221747  0.566334                                 0   \n",
       "4  0.755556    0.209332  0.483692                                 0   \n",
       "\n",
       "   American IPA  Russian Imperial Stout  \n",
       "0             0                       0  \n",
       "1             0                       0  \n",
       "2             1                       0  \n",
       "3             1                       0  \n",
       "4             0                       0  "
      ]
     },
     "execution_count": 89,
     "metadata": {},
     "output_type": "execute_result"
    }
   ],
   "source": [
    "overall.head()"
   ]
  },
  {
   "cell_type": "code",
   "execution_count": 90,
   "metadata": {},
   "outputs": [
    {
     "data": {
      "text/html": [
       "<div>\n",
       "<style scoped>\n",
       "    .dataframe tbody tr th:only-of-type {\n",
       "        vertical-align: middle;\n",
       "    }\n",
       "\n",
       "    .dataframe tbody tr th {\n",
       "        vertical-align: top;\n",
       "    }\n",
       "\n",
       "    .dataframe thead th {\n",
       "        text-align: right;\n",
       "    }\n",
       "</style>\n",
       "<table border=\"1\" class=\"dataframe\">\n",
       "  <thead>\n",
       "    <tr style=\"text-align: right;\">\n",
       "      <th></th>\n",
       "      <th>userBias</th>\n",
       "      <th>char_count</th>\n",
       "      <th>avg_sent</th>\n",
       "      <th>American Barleywine</th>\n",
       "      <th>American Double / Imperial IPA</th>\n",
       "      <th>American Double / Imperial Stout</th>\n",
       "      <th>American Pale Ale (APA)</th>\n",
       "      <th>Euro Pale Lager</th>\n",
       "      <th>Light Lager</th>\n",
       "      <th>Old Ale</th>\n",
       "      <th>Rauchbier</th>\n",
       "      <th>Russian Imperial Stout</th>\n",
       "      <th>Scotch Ale / Wee Heavy</th>\n",
       "    </tr>\n",
       "  </thead>\n",
       "  <tbody>\n",
       "    <tr>\n",
       "      <th>0</th>\n",
       "      <td>0.745000</td>\n",
       "      <td>0.135916</td>\n",
       "      <td>0.494144</td>\n",
       "      <td>0</td>\n",
       "      <td>0</td>\n",
       "      <td>0</td>\n",
       "      <td>0</td>\n",
       "      <td>0</td>\n",
       "      <td>0</td>\n",
       "      <td>0</td>\n",
       "      <td>1</td>\n",
       "      <td>0</td>\n",
       "      <td>0</td>\n",
       "    </tr>\n",
       "    <tr>\n",
       "      <th>1</th>\n",
       "      <td>0.766250</td>\n",
       "      <td>0.232877</td>\n",
       "      <td>0.416718</td>\n",
       "      <td>0</td>\n",
       "      <td>0</td>\n",
       "      <td>1</td>\n",
       "      <td>0</td>\n",
       "      <td>0</td>\n",
       "      <td>0</td>\n",
       "      <td>0</td>\n",
       "      <td>0</td>\n",
       "      <td>0</td>\n",
       "      <td>0</td>\n",
       "    </tr>\n",
       "    <tr>\n",
       "      <th>2</th>\n",
       "      <td>0.775000</td>\n",
       "      <td>0.119221</td>\n",
       "      <td>0.580659</td>\n",
       "      <td>0</td>\n",
       "      <td>0</td>\n",
       "      <td>0</td>\n",
       "      <td>0</td>\n",
       "      <td>0</td>\n",
       "      <td>0</td>\n",
       "      <td>0</td>\n",
       "      <td>0</td>\n",
       "      <td>0</td>\n",
       "      <td>0</td>\n",
       "    </tr>\n",
       "    <tr>\n",
       "      <th>3</th>\n",
       "      <td>0.711000</td>\n",
       "      <td>0.221747</td>\n",
       "      <td>0.566334</td>\n",
       "      <td>0</td>\n",
       "      <td>0</td>\n",
       "      <td>0</td>\n",
       "      <td>0</td>\n",
       "      <td>0</td>\n",
       "      <td>0</td>\n",
       "      <td>0</td>\n",
       "      <td>0</td>\n",
       "      <td>0</td>\n",
       "      <td>0</td>\n",
       "    </tr>\n",
       "    <tr>\n",
       "      <th>4</th>\n",
       "      <td>0.755556</td>\n",
       "      <td>0.209332</td>\n",
       "      <td>0.483692</td>\n",
       "      <td>0</td>\n",
       "      <td>0</td>\n",
       "      <td>0</td>\n",
       "      <td>0</td>\n",
       "      <td>0</td>\n",
       "      <td>0</td>\n",
       "      <td>0</td>\n",
       "      <td>0</td>\n",
       "      <td>0</td>\n",
       "      <td>1</td>\n",
       "    </tr>\n",
       "  </tbody>\n",
       "</table>\n",
       "</div>"
      ],
      "text/plain": [
       "   userBias  char_count  avg_sent  American Barleywine  \\\n",
       "0  0.745000    0.135916  0.494144                    0   \n",
       "1  0.766250    0.232877  0.416718                    0   \n",
       "2  0.775000    0.119221  0.580659                    0   \n",
       "3  0.711000    0.221747  0.566334                    0   \n",
       "4  0.755556    0.209332  0.483692                    0   \n",
       "\n",
       "   American Double / Imperial IPA  American Double / Imperial Stout  \\\n",
       "0                               0                                 0   \n",
       "1                               0                                 1   \n",
       "2                               0                                 0   \n",
       "3                               0                                 0   \n",
       "4                               0                                 0   \n",
       "\n",
       "   American Pale Ale (APA)  Euro Pale Lager  Light Lager  Old Ale  Rauchbier  \\\n",
       "0                        0                0            0        0          1   \n",
       "1                        0                0            0        0          0   \n",
       "2                        0                0            0        0          0   \n",
       "3                        0                0            0        0          0   \n",
       "4                        0                0            0        0          0   \n",
       "\n",
       "   Russian Imperial Stout  Scotch Ale / Wee Heavy  \n",
       "0                       0                       0  \n",
       "1                       0                       0  \n",
       "2                       0                       0  \n",
       "3                       0                       0  \n",
       "4                       0                       1  "
      ]
     },
     "execution_count": 90,
     "metadata": {},
     "output_type": "execute_result"
    }
   ],
   "source": [
    "palate.head()"
   ]
  },
  {
   "cell_type": "code",
   "execution_count": 91,
   "metadata": {},
   "outputs": [
    {
     "data": {
      "text/html": [
       "<div>\n",
       "<style scoped>\n",
       "    .dataframe tbody tr th:only-of-type {\n",
       "        vertical-align: middle;\n",
       "    }\n",
       "\n",
       "    .dataframe tbody tr th {\n",
       "        vertical-align: top;\n",
       "    }\n",
       "\n",
       "    .dataframe thead th {\n",
       "        text-align: right;\n",
       "    }\n",
       "</style>\n",
       "<table border=\"1\" class=\"dataframe\">\n",
       "  <thead>\n",
       "    <tr style=\"text-align: right;\">\n",
       "      <th></th>\n",
       "      <th>userBias</th>\n",
       "      <th>char_count</th>\n",
       "      <th>avg_sent</th>\n",
       "      <th>American Double / Imperial IPA</th>\n",
       "      <th>American Double / Imperial Stout</th>\n",
       "      <th>American Pale Ale (APA)</th>\n",
       "      <th>American Porter</th>\n",
       "      <th>English Pale Ale</th>\n",
       "      <th>Euro Pale Lager</th>\n",
       "      <th>Light Lager</th>\n",
       "      <th>Old Ale</th>\n",
       "      <th>Rauchbier</th>\n",
       "      <th>Russian Imperial Stout</th>\n",
       "      <th>Scotch Ale / Wee Heavy</th>\n",
       "    </tr>\n",
       "  </thead>\n",
       "  <tbody>\n",
       "    <tr>\n",
       "      <th>0</th>\n",
       "      <td>0.745000</td>\n",
       "      <td>0.135916</td>\n",
       "      <td>0.494144</td>\n",
       "      <td>0</td>\n",
       "      <td>0</td>\n",
       "      <td>0</td>\n",
       "      <td>0</td>\n",
       "      <td>0</td>\n",
       "      <td>0</td>\n",
       "      <td>0</td>\n",
       "      <td>0</td>\n",
       "      <td>1</td>\n",
       "      <td>0</td>\n",
       "      <td>0</td>\n",
       "    </tr>\n",
       "    <tr>\n",
       "      <th>1</th>\n",
       "      <td>0.766250</td>\n",
       "      <td>0.232877</td>\n",
       "      <td>0.416718</td>\n",
       "      <td>0</td>\n",
       "      <td>1</td>\n",
       "      <td>0</td>\n",
       "      <td>0</td>\n",
       "      <td>0</td>\n",
       "      <td>0</td>\n",
       "      <td>0</td>\n",
       "      <td>0</td>\n",
       "      <td>0</td>\n",
       "      <td>0</td>\n",
       "      <td>0</td>\n",
       "    </tr>\n",
       "    <tr>\n",
       "      <th>2</th>\n",
       "      <td>0.775000</td>\n",
       "      <td>0.119221</td>\n",
       "      <td>0.580659</td>\n",
       "      <td>0</td>\n",
       "      <td>0</td>\n",
       "      <td>0</td>\n",
       "      <td>0</td>\n",
       "      <td>0</td>\n",
       "      <td>0</td>\n",
       "      <td>0</td>\n",
       "      <td>0</td>\n",
       "      <td>0</td>\n",
       "      <td>0</td>\n",
       "      <td>0</td>\n",
       "    </tr>\n",
       "    <tr>\n",
       "      <th>3</th>\n",
       "      <td>0.711000</td>\n",
       "      <td>0.221747</td>\n",
       "      <td>0.566334</td>\n",
       "      <td>0</td>\n",
       "      <td>0</td>\n",
       "      <td>0</td>\n",
       "      <td>0</td>\n",
       "      <td>0</td>\n",
       "      <td>0</td>\n",
       "      <td>0</td>\n",
       "      <td>0</td>\n",
       "      <td>0</td>\n",
       "      <td>0</td>\n",
       "      <td>0</td>\n",
       "    </tr>\n",
       "    <tr>\n",
       "      <th>4</th>\n",
       "      <td>0.755556</td>\n",
       "      <td>0.209332</td>\n",
       "      <td>0.483692</td>\n",
       "      <td>0</td>\n",
       "      <td>0</td>\n",
       "      <td>0</td>\n",
       "      <td>0</td>\n",
       "      <td>0</td>\n",
       "      <td>0</td>\n",
       "      <td>0</td>\n",
       "      <td>0</td>\n",
       "      <td>0</td>\n",
       "      <td>0</td>\n",
       "      <td>1</td>\n",
       "    </tr>\n",
       "  </tbody>\n",
       "</table>\n",
       "</div>"
      ],
      "text/plain": [
       "   userBias  char_count  avg_sent  American Double / Imperial IPA  \\\n",
       "0  0.745000    0.135916  0.494144                               0   \n",
       "1  0.766250    0.232877  0.416718                               0   \n",
       "2  0.775000    0.119221  0.580659                               0   \n",
       "3  0.711000    0.221747  0.566334                               0   \n",
       "4  0.755556    0.209332  0.483692                               0   \n",
       "\n",
       "   American Double / Imperial Stout  American Pale Ale (APA)  American Porter  \\\n",
       "0                                 0                        0                0   \n",
       "1                                 1                        0                0   \n",
       "2                                 0                        0                0   \n",
       "3                                 0                        0                0   \n",
       "4                                 0                        0                0   \n",
       "\n",
       "   English Pale Ale  Euro Pale Lager  Light Lager  Old Ale  Rauchbier  \\\n",
       "0                 0                0            0        0          1   \n",
       "1                 0                0            0        0          0   \n",
       "2                 0                0            0        0          0   \n",
       "3                 0                0            0        0          0   \n",
       "4                 0                0            0        0          0   \n",
       "\n",
       "   Russian Imperial Stout  Scotch Ale / Wee Heavy  \n",
       "0                       0                       0  \n",
       "1                       0                       0  \n",
       "2                       0                       0  \n",
       "3                       0                       0  \n",
       "4                       0                       1  "
      ]
     },
     "execution_count": 91,
     "metadata": {},
     "output_type": "execute_result"
    }
   ],
   "source": [
    "taste.head()"
   ]
  },
  {
   "cell_type": "code",
   "execution_count": 97,
   "metadata": {},
   "outputs": [
    {
     "data": {
      "text/plain": [
       "array([ 0.        ,  0.59142016,  0.        ,  0.07176688,  0.        ,\n",
       "        0.        , -0.        ,  0.        ,  0.        ,  0.        ,\n",
       "        0.        ,  0.        ,  0.        , -0.        , -0.        ,\n",
       "       -0.        ,  0.60269034,  0.        ,  0.        ,  0.        ,\n",
       "        0.        , -0.        , -0.        , -0.        , -0.        ,\n",
       "       -0.        ,  0.00174302, -0.        , -0.        , -0.        ,\n",
       "       -0.        ,  0.0313186 ,  0.        ,  0.083889  ,  0.        ,\n",
       "       -0.        , -0.00633304, -0.        , -0.        ,  0.        ,\n",
       "       -0.        , -0.        ,  0.        ,  0.        , -0.        ,\n",
       "        0.        , -0.        , -0.        ,  0.        ,  0.        ,\n",
       "       -0.        ,  0.        , -0.        , -0.        ,  0.        ,\n",
       "        0.        , -0.        , -0.        ,  0.        , -0.        ,\n",
       "       -0.        , -0.        ,  0.        ,  0.        , -0.        ,\n",
       "       -0.        , -0.        , -0.        , -0.        , -0.        ,\n",
       "       -0.        , -0.        , -0.        ,  0.        , -0.00389568,\n",
       "       -0.        , -0.        ,  0.        ,  0.        , -0.        ,\n",
       "       -0.        , -0.        , -0.        , -0.        , -0.        ,\n",
       "       -0.        , -0.        , -0.        ,  0.        , -0.        ,\n",
       "       -0.        , -0.0652129 , -0.        ,  0.        , -0.        ,\n",
       "       -0.        ,  0.        , -0.        ,  0.        ,  0.0062335 ,\n",
       "       -0.        , -0.        ,  0.01922177,  0.07287641,  0.        ,\n",
       "       -0.        , -0.        ,  0.01602826, -0.        ,  0.        ,\n",
       "       -0.        ,  0.        , -0.        , -0.        ,  0.        ,\n",
       "       -0.        , -0.        ,  0.        , -0.        , -0.        ,\n",
       "       -0.        , -0.        ,  0.        ,  0.        , -0.        ,\n",
       "        0.        ,  0.        ,  0.        ,  0.        , -0.        ,\n",
       "       -0.        ,  0.        ,  0.        ,  0.        , -0.        ,\n",
       "        0.        ,  0.        ,  0.        ,  0.        ,  0.        ,\n",
       "        0.        ,  0.        ,  0.        ,  0.        ,  0.        ,\n",
       "        0.        ,  0.        ,  0.        , -0.        ,  0.        ,\n",
       "        0.        ,  0.        , -0.        , -0.        ,  0.        ,\n",
       "        0.        ,  0.        ,  0.        ,  0.        , -0.        ,\n",
       "        0.        , -0.        ,  0.        ,  0.        ,  0.        ,\n",
       "        0.        ,  0.        ,  0.        ,  0.        ,  0.        ,\n",
       "        0.        ,  0.        , -0.        ,  0.        ,  0.        ,\n",
       "        0.        , -0.        , -0.        ,  0.        ])"
      ]
     },
     "execution_count": 97,
     "metadata": {},
     "output_type": "execute_result"
    }
   ],
   "source": [
    "reg_palate.coef_"
   ]
  },
  {
   "cell_type": "code",
   "execution_count": 98,
   "metadata": {},
   "outputs": [
    {
     "data": {
      "text/plain": [
       "LassoCV(alphas=array([ 0.001  ,  0.00103, ...,  0.09745,  0.1    ]),\n",
       "    copy_X=True, cv=20, eps=0.001, fit_intercept=True, max_iter=20000,\n",
       "    n_alphas=100, n_jobs=None, normalize=False, positive=False,\n",
       "    precompute='auto', random_state=None, selection='cyclic', tol=0.0001,\n",
       "    verbose=False)"
      ]
     },
     "execution_count": 98,
     "metadata": {},
     "output_type": "execute_result"
    }
   ],
   "source": [
    "reg_palate"
   ]
  },
  {
   "cell_type": "code",
   "execution_count": 162,
   "metadata": {},
   "outputs": [
    {
     "data": {
      "text/plain": [
       "(2, 5)"
      ]
     },
     "execution_count": 162,
     "metadata": {},
     "output_type": "execute_result"
    },
    {
     "data": {
      "image/png": "[encoded data removed]",
      "text/plain": [
       "<Figure size 432x288 with 1 Axes>"
      ]
     },
     "metadata": {},
     "output_type": "display_data"
    }
   ],
   "source": [
    "import time\n",
    "t1 = time.time()\n",
    "model = LassoCV(cv=20).fit(appearance, yval_appearance)\n",
    "#model2 = LassoCV(cv=20).fit(aroma, yval_aroma)\n",
    "t_lasso_cv = time.time() - t1\n",
    "\n",
    "# Display results\n",
    "m_log_alphas = -np.log10(model.alphas_)\n",
    "#m2_log_alphas = -np.log10(model2.alphas_)\n",
    "\n",
    "plt.figure()\n",
    "ymin, ymax = -.02,.1\n",
    "plt.plot(m_log_alphas, model.mse_path_, ':')\n",
    "plt.plot(m_log_alphas, model.mse_path_.mean(axis=-1), 'k',\n",
    "         label='Average across the folds', linewidth=2)\n",
    "\n",
    "#plt.plot(m2_log_alphas, model2.mse_path_, ':')\n",
    "#plt.plot(m2_log_alphas, model2.mse_path_.mean(axis=-1), 'k',\n",
    "#       label='Average across the folds', linewidth=2)\n",
    "plt.axvline(-np.log10(model.alpha_), linestyle='--', color='k',\n",
    "            label='alpha: CV estimate')\n",
    "#plt.axvline(-np.log10(model2.alpha_), linestyle='--', color='k',\n",
    "#            label='alpha: CV estimate')\n",
    "plt.legend()\n",
    "\n",
    "plt.xlabel('-log(alpha)')\n",
    "plt.ylabel('Mean square error')\n",
    "plt.title('Mean square error on each fold: coordinate descent '\n",
    "          '(train time: %.2fs)' % t_lasso_cv)\n",
    "plt.axis('tight')\n",
    "plt.ylim(ymin, ymax)\n",
    "plt.xlim(2,5)"
   ]
  },
  {
   "cell_type": "code",
   "execution_count": 160,
   "metadata": {},
   "outputs": [
    {
     "data": {
      "text/plain": [
       "(2, 5)"
      ]
     },
     "execution_count": 160,
     "metadata": {},
     "output_type": "execute_result"
    },
    {
     "data": {
      "image/png": "[encoded data removed]",
      "text/plain": [
       "<Figure size 432x288 with 1 Axes>"
      ]
     },
     "metadata": {},
     "output_type": "display_data"
    }
   ],
   "source": [
    "t1 = time.time()\n",
    "model = LassoCV(cv=20).fit(aroma, yval_aroma)\n",
    "#model2 = LassoCV(cv=20).fit(aroma, yval_aroma)\n",
    "t_lasso_cv = time.time() - t1\n",
    "\n",
    "# Display results\n",
    "m_log_alphas = -np.log10(model.alphas_)\n",
    "#m2_log_alphas = -np.log10(model2.alphas_)\n",
    "\n",
    "plt.figure()\n",
    "ymin, ymax = -.02,.2\n",
    "plt.plot(m_log_alphas, model.mse_path_, ':')\n",
    "plt.plot(m_log_alphas, model.mse_path_.mean(axis=-1), 'k',\n",
    "         label='Average across the folds', linewidth=2)\n",
    "\n",
    "#plt.plot(m2_log_alphas, model2.mse_path_, ':')\n",
    "#plt.plot(m2_log_alphas, model2.mse_path_.mean(axis=-1), 'k',\n",
    "#       label='Average across the folds', linewidth=2)\n",
    "plt.axvline(-np.log10(model.alpha_), linestyle='--', color='k',\n",
    "            label='alpha: CV estimate')\n",
    "#plt.axvline(-np.log10(model2.alpha_), linestyle='--', color='k',\n",
    "#            label='alpha: CV estimate')\n",
    "plt.legend()\n",
    "\n",
    "plt.xlabel('-log(alpha)')\n",
    "plt.ylabel('Mean square error')\n",
    "plt.title('Mean square error on each fold: coordinate descent '\n",
    "          '(train time: %.2fs)' % t_lasso_cv)\n",
    "plt.axis('tight')\n",
    "plt.ylim(ymin, ymax)\n",
    "plt.xlim(2,5)"
   ]
  },
  {
   "cell_type": "code",
   "execution_count": 159,
   "metadata": {},
   "outputs": [
    {
     "data": {
      "text/plain": [
       "(2, 5)"
      ]
     },
     "execution_count": 159,
     "metadata": {},
     "output_type": "execute_result"
    },
    {
     "data": {
      "image/png": "[encoded data removed]",
      "text/plain": [
       "<Figure size 432x288 with 1 Axes>"
      ]
     },
     "metadata": {},
     "output_type": "display_data"
    }
   ],
   "source": [
    "t1 = time.time()\n",
    "model = LassoCV(cv=20).fit(overall, yval_overall)\n",
    "#model2 = LassoCV(cv=20).fit(aroma, yval_aroma)\n",
    "t_lasso_cv = time.time() - t1\n",
    "\n",
    "# Display results\n",
    "m_log_alphas = -np.log10(model.alphas_)\n",
    "#m2_log_alphas = -np.log10(model2.alphas_)\n",
    "\n",
    "plt.figure()\n",
    "ymin, ymax = -.02,.2\n",
    "plt.plot(m_log_alphas, model.mse_path_, ':')\n",
    "plt.plot(m_log_alphas, model.mse_path_.mean(axis=-1), 'k',\n",
    "         label='Average across the folds', linewidth=2)\n",
    "\n",
    "#plt.plot(m2_log_alphas, model2.mse_path_, ':')\n",
    "#plt.plot(m2_log_alphas, model2.mse_path_.mean(axis=-1), 'k',\n",
    "#       label='Average across the folds', linewidth=2)\n",
    "plt.axvline(-np.log10(model.alpha_), linestyle='--', color='k',\n",
    "            label='alpha: CV estimate')\n",
    "#plt.axvline(-np.log10(model2.alpha_), linestyle='--', color='k',\n",
    "#            label='alpha: CV estimate')\n",
    "plt.legend()\n",
    "\n",
    "plt.xlabel('-log(alpha)')\n",
    "plt.ylabel('Mean square error')\n",
    "plt.title('Mean square error on each fold: coordinate descent '\n",
    "          '(train time: %.2fs)' % t_lasso_cv)\n",
    "plt.axis('tight')\n",
    "plt.ylim(ymin, ymax)\n",
    "plt.xlim(2,5)"
   ]
  },
  {
   "cell_type": "code",
   "execution_count": 112,
   "metadata": {},
   "outputs": [
    {
     "data": {
      "text/plain": [
       "array([[ 0.02021435,  0.01542495,  0.01051916, ...,  0.02037105,\n",
       "         0.02620188,  0.05418897],\n",
       "       [ 0.02021435,  0.01542495,  0.01051916, ...,  0.02037105,\n",
       "         0.02620188,  0.05418897],\n",
       "       [ 0.02021435,  0.01542495,  0.01051916, ...,  0.02037105,\n",
       "         0.02620188,  0.05418897],\n",
       "       ..., \n",
       "       [ 0.01118493,  0.00918092,  0.00768986, ...,  0.01374745,\n",
       "         0.01695337,  0.03593497],\n",
       "       [ 0.01115366,  0.00915964,  0.00767835, ...,  0.0136882 ,\n",
       "         0.01686553,  0.03551031],\n",
       "       [ 0.01112369,  0.00913932,  0.00766753, ...,  0.01363153,\n",
       "         0.01678157,  0.03510336]])"
      ]
     },
     "execution_count": 112,
     "metadata": {},
     "output_type": "execute_result"
    }
   ],
   "source": [
    "model.mse_path_"
   ]
  },
  {
   "cell_type": "code",
   "execution_count": 124,
   "metadata": {},
   "outputs": [
    {
     "data": {
      "text/plain": [
       "array([ 0.00990286,  0.00992796,  0.00995438,  0.00998219,  0.01001146,\n",
       "        0.01004218,  0.01007363,  0.01010672,  0.01014152,  0.01017814,\n",
       "        0.01021666,  0.01025646,  0.01029585,  0.0103373 ,  0.01038026,\n",
       "        0.01042265,  0.01046581,  0.01051119,  0.01055893,  0.01060914,\n",
       "        0.01066068,  0.01071419,  0.01076832,  0.01082523,  0.01088507,\n",
       "        0.010948  ,  0.01099965,  0.0110538 ,  0.01111077,  0.01117071,\n",
       "        0.01123376,  0.01130009,  0.01136988,  0.0114433 ,  0.01151169,\n",
       "        0.01155715,  0.01160503,  0.01165548,  0.01170864,  0.01176464,\n",
       "        0.01182363,  0.01188579,  0.01195127,  0.01202025,  0.01209293,\n",
       "        0.01216949,  0.01225015,  0.01233511,  0.01242462,  0.01251258,\n",
       "        0.01260409,  0.01270048,  0.012802  ,  0.01290893,  0.01302156,\n",
       "        0.0131402 ,  0.01326515,  0.01331601,  0.01333042,  0.01334557,\n",
       "        0.01336087,  0.0133739 ,  0.01338759,  0.01340197,  0.01341707,\n",
       "        0.01343293,  0.01344959,  0.0134671 ,  0.01348549,  0.01350482,\n",
       "        0.01352513,  0.01354647,  0.0135689 ,  0.01359247,  0.01361724,\n",
       "        0.01364327,  0.01367064,  0.0136994 ,  0.01372964,  0.01376142,\n",
       "        0.01379484,  0.01382997,  0.0138669 ,  0.01390573,  0.01394656,\n",
       "        0.01398949,  0.01403463,  0.0140821 ,  0.01413202,  0.01413836,\n",
       "        0.01413836,  0.01413836,  0.01413836,  0.01413836,  0.01413836,\n",
       "        0.01413836,  0.01413836,  0.01413836,  0.01413836,  0.01413836,\n",
       "        0.01413836,  0.01413836,  0.01413836,  0.01413836,  0.01413836,\n",
       "        0.01413836,  0.01413836,  0.01413836,  0.01413836,  0.01413836,\n",
       "        0.01413836,  0.01413836,  0.01413836,  0.01413836,  0.01413836,\n",
       "        0.01413836,  0.01413836,  0.01413836,  0.01413836,  0.01413836,\n",
       "        0.01413836,  0.01413836,  0.01413836,  0.01413836,  0.01413836,\n",
       "        0.01413836,  0.01413836,  0.01413836,  0.01413836,  0.01413836,\n",
       "        0.01413836,  0.01413836,  0.01413836,  0.01413836,  0.01413836,\n",
       "        0.01413836,  0.01413836,  0.01413836,  0.01413836,  0.01413836,\n",
       "        0.01413836,  0.01413836,  0.01413836,  0.01413836,  0.01413836,\n",
       "        0.01413836,  0.01413836,  0.01413836,  0.01413836,  0.01413836,\n",
       "        0.01413836,  0.01413836,  0.01413836,  0.01413836,  0.01413836,\n",
       "        0.01413836,  0.01413836,  0.01413836,  0.01413836,  0.01413836,\n",
       "        0.01413836,  0.01413836,  0.01413836,  0.01413836,  0.01413836,\n",
       "        0.01413836,  0.01413836,  0.01413836,  0.01413836,  0.01413836,\n",
       "        0.01413836,  0.01413836,  0.01413836,  0.01413836,  0.01413836,\n",
       "        0.01413836,  0.01413836,  0.01413836,  0.01413836])"
      ]
     },
     "execution_count": 124,
     "metadata": {},
     "output_type": "execute_result"
    }
   ],
   "source": [
    "mse"
   ]
  },
  {
   "cell_type": "code",
   "execution_count": 128,
   "metadata": {},
   "outputs": [
    {
     "data": {
      "text/plain": [
       "Text(0,0.5,'MSE')"
      ]
     },
     "execution_count": 128,
     "metadata": {},
     "output_type": "execute_result"
    },
    {
     "data": {
      "image/png": "[encoded data removed]",
      "text/plain": [
       "<Figure size 432x288 with 1 Axes>"
      ]
     },
     "metadata": {},
     "output_type": "display_data"
    }
   ],
   "source": [
    "plt.plot(alphas, mse, '-ko')\n",
    "plt.axvline(lassocv_alpha, color='b', ls='--')\n",
    "plt.xlabel(r'$\\alpha$')\n",
    "plt.ylabel('MSE')"
   ]
  },
  {
   "cell_type": "code",
   "execution_count": null,
   "metadata": {},
   "outputs": [],
   "source": []
  }
 ],
 "metadata": {
  "kernelspec": {
   "display_name": "Python 3",
   "language": "python",
   "name": "python3"
  },
  "language_info": {
   "codemirror_mode": {
    "name": "ipython",
    "version": 3
   },
   "file_extension": ".py",
   "mimetype": "text/x-python",
   "name": "python",
   "nbconvert_exporter": "python",
   "pygments_lexer": "ipython3",
   "version": "3.6.5"
  }
 },
 "nbformat": 4,
 "nbformat_minor": 2
}
